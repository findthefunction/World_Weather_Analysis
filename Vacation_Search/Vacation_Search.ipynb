{
 "cells": [
  {
   "cell_type": "markdown",
   "metadata": {},
   "source": [
    "## Deliverable 2. Create a Customer Travel Destinations Map."
   ]
  },
  {
   "cell_type": "code",
   "execution_count": 23,
   "metadata": {},
   "outputs": [],
   "source": [
    "# Dependencies and Setup\n",
    "import pandas as pd\n",
    "import requests\n",
    "import gmaps\n",
    "\n",
    "# Import API key\n",
    "from config import g_key \n",
    "\n",
    "# Configure gmaps API key\n",
    "gmaps.configure(api_key=g_key)"
   ]
  },
  {
   "cell_type": "code",
   "execution_count": 24,
   "metadata": {},
   "outputs": [
    {
     "output_type": "execute_result",
     "data": {
      "text/plain": [
       "   City_ID         City Country      Lat       Lng  Max Temp  Humidity  \\\n",
       "0        0    Mount Isa      AU -20.7333  139.5000     84.20        21   \n",
       "1        1  Mitsamiouli      KM -11.3847   43.2844     81.32        76   \n",
       "2        2    Geraldton      AU -28.7667  114.6000     89.60        33   \n",
       "3        3        Tiksi      RU  71.6872  128.8694      0.00        81   \n",
       "4        4       Namibe      AO -15.1961   12.1522     79.14        69   \n",
       "\n",
       "   Cloudiness  Wind Speed Current Description                 Date  \n",
       "0          14       16.11          few clouds  2021-04-11 03:11:31  \n",
       "1          94        8.81          light rain  2021-04-11 03:11:32  \n",
       "2          85       25.32     overcast clouds  2021-04-11 03:11:32  \n",
       "3          21        7.70          few clouds  2021-04-11 03:11:33  \n",
       "4          45        5.61    scattered clouds  2021-04-11 03:06:36  "
      ],
      "text/html": "<div>\n<style scoped>\n    .dataframe tbody tr th:only-of-type {\n        vertical-align: middle;\n    }\n\n    .dataframe tbody tr th {\n        vertical-align: top;\n    }\n\n    .dataframe thead th {\n        text-align: right;\n    }\n</style>\n<table border=\"1\" class=\"dataframe\">\n  <thead>\n    <tr style=\"text-align: right;\">\n      <th></th>\n      <th>City_ID</th>\n      <th>City</th>\n      <th>Country</th>\n      <th>Lat</th>\n      <th>Lng</th>\n      <th>Max Temp</th>\n      <th>Humidity</th>\n      <th>Cloudiness</th>\n      <th>Wind Speed</th>\n      <th>Current Description</th>\n      <th>Date</th>\n    </tr>\n  </thead>\n  <tbody>\n    <tr>\n      <th>0</th>\n      <td>0</td>\n      <td>Mount Isa</td>\n      <td>AU</td>\n      <td>-20.7333</td>\n      <td>139.5000</td>\n      <td>84.20</td>\n      <td>21</td>\n      <td>14</td>\n      <td>16.11</td>\n      <td>few clouds</td>\n      <td>2021-04-11 03:11:31</td>\n    </tr>\n    <tr>\n      <th>1</th>\n      <td>1</td>\n      <td>Mitsamiouli</td>\n      <td>KM</td>\n      <td>-11.3847</td>\n      <td>43.2844</td>\n      <td>81.32</td>\n      <td>76</td>\n      <td>94</td>\n      <td>8.81</td>\n      <td>light rain</td>\n      <td>2021-04-11 03:11:32</td>\n    </tr>\n    <tr>\n      <th>2</th>\n      <td>2</td>\n      <td>Geraldton</td>\n      <td>AU</td>\n      <td>-28.7667</td>\n      <td>114.6000</td>\n      <td>89.60</td>\n      <td>33</td>\n      <td>85</td>\n      <td>25.32</td>\n      <td>overcast clouds</td>\n      <td>2021-04-11 03:11:32</td>\n    </tr>\n    <tr>\n      <th>3</th>\n      <td>3</td>\n      <td>Tiksi</td>\n      <td>RU</td>\n      <td>71.6872</td>\n      <td>128.8694</td>\n      <td>0.00</td>\n      <td>81</td>\n      <td>21</td>\n      <td>7.70</td>\n      <td>few clouds</td>\n      <td>2021-04-11 03:11:33</td>\n    </tr>\n    <tr>\n      <th>4</th>\n      <td>4</td>\n      <td>Namibe</td>\n      <td>AO</td>\n      <td>-15.1961</td>\n      <td>12.1522</td>\n      <td>79.14</td>\n      <td>69</td>\n      <td>45</td>\n      <td>5.61</td>\n      <td>scattered clouds</td>\n      <td>2021-04-11 03:06:36</td>\n    </tr>\n  </tbody>\n</table>\n</div>"
     },
     "metadata": {},
     "execution_count": 24
    }
   ],
   "source": [
    "# 1. Import the WeatherPy_database.csv file. \n",
    "city_data_df = pd.read_csv(\"../Weather_Database/WeatherPy_database.csv\")\n",
    "city_data_df.head()"
   ]
  },
  {
   "cell_type": "code",
   "execution_count": 25,
   "metadata": {},
   "outputs": [],
   "source": [
    "# 2. Prompt the user to enter minimum and maximum temperature criteria \n",
    "\n",
    "min_temp = float(input(\"What is the minimum temperature you would like for your trip? \"))\n",
    "max_temp = float(input(\"What is the maximum temperature you would like for your trip? \"))\n"
   ]
  },
  {
   "cell_type": "code",
   "execution_count": 27,
   "metadata": {},
   "outputs": [
    {
     "output_type": "error",
     "ename": "ValueError",
     "evalue": "Can only compare identically-labeled Series objects",
     "traceback": [
      "\u001b[1;31m---------------------------------------------------------------------------\u001b[0m",
      "\u001b[1;31mValueError\u001b[0m                                Traceback (most recent call last)",
      "\u001b[1;32m<ipython-input-27-1161fa5286f8>\u001b[0m in \u001b[0;36m<module>\u001b[1;34m\u001b[0m\n\u001b[0;32m      1\u001b[0m \u001b[1;31m# 3. Filter the city_data_df DataFrame using the input statements to create a new DataFrame using the loc method.\u001b[0m\u001b[1;33m\u001b[0m\u001b[1;33m\u001b[0m\u001b[1;33m\u001b[0m\u001b[0m\n\u001b[0;32m      2\u001b[0m \u001b[1;33m\u001b[0m\u001b[0m\n\u001b[1;32m----> 3\u001b[1;33m preferred_cities_df = city_data_df.loc[(city_data_df[\"Max Temp\"] <= max_temp) & \\\n\u001b[0m\u001b[0;32m      4\u001b[0m                                        (city_data_df[\"Max Temp\"] >= min_temp)]\n\u001b[0;32m      5\u001b[0m \u001b[0mpreferred_cities_df\u001b[0m\u001b[1;33m.\u001b[0m\u001b[0mhead\u001b[0m\u001b[1;33m(\u001b[0m\u001b[1;36m10\u001b[0m\u001b[1;33m)\u001b[0m\u001b[1;33m\u001b[0m\u001b[1;33m\u001b[0m\u001b[0m\n",
      "\u001b[1;32m~\\anaconda3\\lib\\site-packages\\pandas\\core\\ops\\common.py\u001b[0m in \u001b[0;36mnew_method\u001b[1;34m(self, other)\u001b[0m\n\u001b[0;32m     63\u001b[0m         \u001b[0mother\u001b[0m \u001b[1;33m=\u001b[0m \u001b[0mitem_from_zerodim\u001b[0m\u001b[1;33m(\u001b[0m\u001b[0mother\u001b[0m\u001b[1;33m)\u001b[0m\u001b[1;33m\u001b[0m\u001b[1;33m\u001b[0m\u001b[0m\n\u001b[0;32m     64\u001b[0m \u001b[1;33m\u001b[0m\u001b[0m\n\u001b[1;32m---> 65\u001b[1;33m         \u001b[1;32mreturn\u001b[0m \u001b[0mmethod\u001b[0m\u001b[1;33m(\u001b[0m\u001b[0mself\u001b[0m\u001b[1;33m,\u001b[0m \u001b[0mother\u001b[0m\u001b[1;33m)\u001b[0m\u001b[1;33m\u001b[0m\u001b[1;33m\u001b[0m\u001b[0m\n\u001b[0m\u001b[0;32m     66\u001b[0m \u001b[1;33m\u001b[0m\u001b[0m\n\u001b[0;32m     67\u001b[0m     \u001b[1;32mreturn\u001b[0m \u001b[0mnew_method\u001b[0m\u001b[1;33m\u001b[0m\u001b[1;33m\u001b[0m\u001b[0m\n",
      "\u001b[1;32m~\\anaconda3\\lib\\site-packages\\pandas\\core\\ops\\__init__.py\u001b[0m in \u001b[0;36mwrapper\u001b[1;34m(self, other)\u001b[0m\n\u001b[0;32m    363\u001b[0m \u001b[1;33m\u001b[0m\u001b[0m\n\u001b[0;32m    364\u001b[0m         \u001b[1;32mif\u001b[0m \u001b[0misinstance\u001b[0m\u001b[1;33m(\u001b[0m\u001b[0mother\u001b[0m\u001b[1;33m,\u001b[0m \u001b[0mABCSeries\u001b[0m\u001b[1;33m)\u001b[0m \u001b[1;32mand\u001b[0m \u001b[1;32mnot\u001b[0m \u001b[0mself\u001b[0m\u001b[1;33m.\u001b[0m\u001b[0m_indexed_same\u001b[0m\u001b[1;33m(\u001b[0m\u001b[0mother\u001b[0m\u001b[1;33m)\u001b[0m\u001b[1;33m:\u001b[0m\u001b[1;33m\u001b[0m\u001b[1;33m\u001b[0m\u001b[0m\n\u001b[1;32m--> 365\u001b[1;33m             \u001b[1;32mraise\u001b[0m \u001b[0mValueError\u001b[0m\u001b[1;33m(\u001b[0m\u001b[1;34m\"Can only compare identically-labeled Series objects\"\u001b[0m\u001b[1;33m)\u001b[0m\u001b[1;33m\u001b[0m\u001b[1;33m\u001b[0m\u001b[0m\n\u001b[0m\u001b[0;32m    366\u001b[0m \u001b[1;33m\u001b[0m\u001b[0m\n\u001b[0;32m    367\u001b[0m         \u001b[0mlvalues\u001b[0m \u001b[1;33m=\u001b[0m \u001b[0mextract_array\u001b[0m\u001b[1;33m(\u001b[0m\u001b[0mself\u001b[0m\u001b[1;33m,\u001b[0m \u001b[0mextract_numpy\u001b[0m\u001b[1;33m=\u001b[0m\u001b[1;32mTrue\u001b[0m\u001b[1;33m)\u001b[0m\u001b[1;33m\u001b[0m\u001b[1;33m\u001b[0m\u001b[0m\n",
      "\u001b[1;31mValueError\u001b[0m: Can only compare identically-labeled Series objects"
     ]
    }
   ],
   "source": [
    "# 3. Filter the city_data_df DataFrame using the input statements to create a new DataFrame using the loc method.\n",
    "\n",
    "preferred_cities_df = city_data_df.loc[(city_data_df[\"Max Temp\"] <= max_temp) & \\\n",
    "                                       (city_data_df[\"Max Temp\"] >= min_temp)]\n",
    "preferred_cities_df.head(10)\n",
    "\n"
   ]
  },
  {
   "cell_type": "code",
   "execution_count": 28,
   "metadata": {},
   "outputs": [
    {
     "output_type": "execute_result",
     "data": {
      "text/plain": [
       "City_ID                109\n",
       "City                   109\n",
       "Country                109\n",
       "Lat                    109\n",
       "Lng                    109\n",
       "Max Temp               109\n",
       "Humidity               109\n",
       "Cloudiness             109\n",
       "Wind Speed             109\n",
       "Current Description    109\n",
       "Date                   109\n",
       "dtype: int64"
      ]
     },
     "metadata": {},
     "execution_count": 28
    }
   ],
   "source": [
    "# 4a. Determine if there are any empty rows.\n",
    "\n",
    "preferred_cities_df.count()\n"
   ]
  },
  {
   "cell_type": "code",
   "execution_count": 29,
   "metadata": {},
   "outputs": [],
   "source": [
    "# 4b. Drop any empty rows and create a new DataFrame that doesn’t have empty rows.\n",
    "\n",
    "clean_df = preferred_cities_df.dropna()\n"
   ]
  },
  {
   "cell_type": "code",
   "execution_count": 30,
   "metadata": {},
   "outputs": [
    {
     "output_type": "execute_result",
     "data": {
      "text/plain": [
       "           City Country  Max Temp Current Description      Lat       Lng  \\\n",
       "0     Mount Isa      AU     84.20          few clouds -20.7333  139.5000   \n",
       "1   Mitsamiouli      KM     81.32          light rain -11.3847   43.2844   \n",
       "2     Geraldton      AU     89.60     overcast clouds -28.7667  114.6000   \n",
       "11  Santa Marta      CO     82.00          few clouds  11.2408  -74.1990   \n",
       "13       Twante      MM     86.00       broken clouds  16.7167   95.9333   \n",
       "21        Alofi      NU     82.40           clear sky -19.0595 -169.9187   \n",
       "25     Tessalit      ML     82.13           clear sky  20.1986    1.0114   \n",
       "28      Kaduqli      SD     80.74     overcast clouds  11.0167   29.7167   \n",
       "35    Hithadhoo      MV     83.34     overcast clouds  -0.6000   73.0833   \n",
       "40    Carnarvon      AU     86.00          light rain -24.8667  113.6333   \n",
       "\n",
       "   Hotel Name  \n",
       "0              \n",
       "1              \n",
       "2              \n",
       "11             \n",
       "13             \n",
       "21             \n",
       "25             \n",
       "28             \n",
       "35             \n",
       "40             "
      ],
      "text/html": "<div>\n<style scoped>\n    .dataframe tbody tr th:only-of-type {\n        vertical-align: middle;\n    }\n\n    .dataframe tbody tr th {\n        vertical-align: top;\n    }\n\n    .dataframe thead th {\n        text-align: right;\n    }\n</style>\n<table border=\"1\" class=\"dataframe\">\n  <thead>\n    <tr style=\"text-align: right;\">\n      <th></th>\n      <th>City</th>\n      <th>Country</th>\n      <th>Max Temp</th>\n      <th>Current Description</th>\n      <th>Lat</th>\n      <th>Lng</th>\n      <th>Hotel Name</th>\n    </tr>\n  </thead>\n  <tbody>\n    <tr>\n      <th>0</th>\n      <td>Mount Isa</td>\n      <td>AU</td>\n      <td>84.20</td>\n      <td>few clouds</td>\n      <td>-20.7333</td>\n      <td>139.5000</td>\n      <td></td>\n    </tr>\n    <tr>\n      <th>1</th>\n      <td>Mitsamiouli</td>\n      <td>KM</td>\n      <td>81.32</td>\n      <td>light rain</td>\n      <td>-11.3847</td>\n      <td>43.2844</td>\n      <td></td>\n    </tr>\n    <tr>\n      <th>2</th>\n      <td>Geraldton</td>\n      <td>AU</td>\n      <td>89.60</td>\n      <td>overcast clouds</td>\n      <td>-28.7667</td>\n      <td>114.6000</td>\n      <td></td>\n    </tr>\n    <tr>\n      <th>11</th>\n      <td>Santa Marta</td>\n      <td>CO</td>\n      <td>82.00</td>\n      <td>few clouds</td>\n      <td>11.2408</td>\n      <td>-74.1990</td>\n      <td></td>\n    </tr>\n    <tr>\n      <th>13</th>\n      <td>Twante</td>\n      <td>MM</td>\n      <td>86.00</td>\n      <td>broken clouds</td>\n      <td>16.7167</td>\n      <td>95.9333</td>\n      <td></td>\n    </tr>\n    <tr>\n      <th>21</th>\n      <td>Alofi</td>\n      <td>NU</td>\n      <td>82.40</td>\n      <td>clear sky</td>\n      <td>-19.0595</td>\n      <td>-169.9187</td>\n      <td></td>\n    </tr>\n    <tr>\n      <th>25</th>\n      <td>Tessalit</td>\n      <td>ML</td>\n      <td>82.13</td>\n      <td>clear sky</td>\n      <td>20.1986</td>\n      <td>1.0114</td>\n      <td></td>\n    </tr>\n    <tr>\n      <th>28</th>\n      <td>Kaduqli</td>\n      <td>SD</td>\n      <td>80.74</td>\n      <td>overcast clouds</td>\n      <td>11.0167</td>\n      <td>29.7167</td>\n      <td></td>\n    </tr>\n    <tr>\n      <th>35</th>\n      <td>Hithadhoo</td>\n      <td>MV</td>\n      <td>83.34</td>\n      <td>overcast clouds</td>\n      <td>-0.6000</td>\n      <td>73.0833</td>\n      <td></td>\n    </tr>\n    <tr>\n      <th>40</th>\n      <td>Carnarvon</td>\n      <td>AU</td>\n      <td>86.00</td>\n      <td>light rain</td>\n      <td>-24.8667</td>\n      <td>113.6333</td>\n      <td></td>\n    </tr>\n  </tbody>\n</table>\n</div>"
     },
     "metadata": {},
     "execution_count": 30
    }
   ],
   "source": [
    "# 5a. Create DataFrame called hotel_df to store hotel names along with city, country, max temp, and coordinates.\n",
    "hotel_df = clean_df[[\"City\", \"Country\", \"Max Temp\", \"Current Description\", \"Lat\", \"Lng\"]].copy()\n",
    "\n",
    "# 5b. Create a new column \"Hotel Name\"\n",
    "hotel_df[\"Hotel Name\"] = \"\"\n",
    "hotel_df.head(10)"
   ]
  },
  {
   "cell_type": "code",
   "execution_count": 31,
   "metadata": {
    "tags": [
     "outputPrepend"
    ]
   },
   "outputs": [
    {
     "output_type": "stream",
     "name": "stdout",
     "text": [
      "hment'], 'user_ratings_total': 20, 'vicinity': 'National Hiway, Santa Rosa'}, {'business_status': 'OPERATIONAL', 'geometry': {'location': {'lat': 14.3240912, 'lng': 121.1130774}, 'viewport': {'northeast': {'lat': 14.3254516302915, 'lng': 121.1141172302915}, 'southwest': {'lat': 14.3227536697085, 'lng': 121.1114192697085}}}, 'icon': 'https://maps.gstatic.com/mapfiles/place_api/icons/v1/png_71/lodging-71.png', 'name': 'Southpick Resort', 'photos': [{'height': 3456, 'html_attributions': ['<a href=\"https://maps.google.com/maps/contrib/108306599661831573418\">seisan sama</a>'], 'photo_reference': 'ATtYBwKNX71siYj8WngK7DejN1P62ugqSvlWgenNSOis3r2FVjw1zxYDZ1nbUAhinBS1GRQN7cRInKdlNafDyaU3Xz4wGUsOsl7b9TNg0zRwnobCiwbGHAXak0aJq9CYlZJyGkwm7WSH4c_yy__Rx2Vtwys7CuJ33eT8dsRPKqIVW_XOyeGD', 'width': 4608}], 'place_id': 'ChIJd6JcjZfZlzMRxh3eUBM2IPg', 'plus_code': {'compound_code': '84F7+J6 Santa Rosa, Laguna, Philippines', 'global_code': '7Q6384F7+J6'}, 'rating': 3.8, 'reference': 'ChIJd6JcjZfZlzMRxh3eUBM2IPg', 'scope': 'GOOGLE', 'types': ['lodging', 'point_of_interest', 'establishment'], 'user_ratings_total': 109, 'vicinity': '1 Tatlong Hari Street, Santa Rosa'}, {'business_status': 'OPERATIONAL', 'geometry': {'location': {'lat': 14.3018757, 'lng': 121.1040648}, 'viewport': {'northeast': {'lat': 14.3031724302915, 'lng': 121.1052815302915}, 'southwest': {'lat': 14.3004744697085, 'lng': 121.1025835697085}}}, 'icon': 'https://maps.gstatic.com/mapfiles/place_api/icons/v1/png_71/lodging-71.png', 'name': 'Calypso Resort Hotel', 'photos': [{'height': 2448, 'html_attributions': ['<a href=\"https://maps.google.com/maps/contrib/100996960864721983535\">Archie Yare</a>'], 'photo_reference': 'ATtYBwKGU7FCOnu6dHNl_RdDGcGoB5tRNKVWY1RuO0ZxqDCWmZeXhN3yAtoR58ZqH7X2UPq-0FKHFCmJzPT2mZ5O3MzAiaHDfeUJUSikMPHqP0MwUv2_ihsq812SkWph1GoTdlLJvbnIpDFL9v0bpRJWUCOI0Rry0tv0fIAwjRq1mfEs4ebp', 'width': 3264}], 'place_id': 'ChIJN8lt6UrYlzMRgHSRSxV9iX4', 'plus_code': {'compound_code': '8423+QJ Santa Rosa, Laguna, Philippines', 'global_code': '7Q638423+QJ'}, 'rating': 3.4, 'reference': 'ChIJN8lt6UrYlzMRgHSRSxV9iX4', 'scope': 'GOOGLE', 'types': ['lodging', 'point_of_interest', 'establishment'], 'user_ratings_total': 91, 'vicinity': '38 National Hi-Way, Santa Rosa'}, {'business_status': 'OPERATIONAL', 'geometry': {'location': {'lat': 14.3124104, 'lng': 121.1113537}, 'viewport': {'northeast': {'lat': 14.3137593302915, 'lng': 121.1127004302915}, 'southwest': {'lat': 14.3110613697085, 'lng': 121.1100024697085}}}, 'icon': 'https://maps.gstatic.com/mapfiles/place_api/icons/v1/png_71/lodging-71.png', 'name': 'Vizcarra Apartment', 'place_id': 'ChIJzcffst7ZlzMRb2tzUeaWXZk', 'plus_code': {'compound_code': '8466+XG Santa Rosa, Laguna, Philippines', 'global_code': '7Q638466+XG'}, 'reference': 'ChIJzcffst7ZlzMRb2tzUeaWXZk', 'scope': 'GOOGLE', 'types': ['lodging', 'point_of_interest', 'establishment'], 'vicinity': '688 Doctor Zavalla Street, Santa Rosa'}, {'business_status': 'OPERATIONAL', 'geometry': {'location': {'lat': 14.3112865, 'lng': 121.1114172}, 'viewport': {'northeast': {'lat': 14.3126665302915, 'lng': 121.1127608802915}, 'southwest': {'lat': 14.3099685697085, 'lng': 121.1100629197085}}}, 'icon': 'https://maps.gstatic.com/mapfiles/place_api/icons/v1/png_71/lodging-71.png', 'name': 'charlesnoel.go.3', 'place_id': 'ChIJ6Utgy0nZlzMRx7fzRTR0R6A', 'plus_code': {'compound_code': '8466+GH Santa Rosa, Laguna, Philippines', 'global_code': '7Q638466+GH'}, 'reference': 'ChIJ6Utgy0nZlzMRx7fzRTR0R6A', 'scope': 'GOOGLE', 'types': ['lodging', 'point_of_interest', 'establishment'], 'vicinity': 'Lucero Street, Santa Rosa'}, {'business_status': 'OPERATIONAL', 'geometry': {'location': {'lat': 14.3117695, 'lng': 121.1102756}, 'viewport': {'northeast': {'lat': 14.3130678302915, 'lng': 121.1116332302915}, 'southwest': {'lat': 14.3103698697085, 'lng': 121.1089352697085}}}, 'icon': 'https://maps.gstatic.com/mapfiles/place_api/icons/v1/png_71/lodging-71.png', 'name': \"Garcia's Apartment\", 'photos': [{'height': 1063, 'html_attributions': ['<a href=\"https://maps.google.com/maps/contrib/102302327414884987347\">Rochelle Roldan Garcia</a>'], 'photo_reference': 'ATtYBwKdcJU1z60kIRYwBR2cboEJvoCmpAleqYpoAFa3hXzGgiYZKqmsVk6Q6Tfe8HLEK4FCx8nqanR9lxJOBZb2E-RP8j31Mb6kSxkhpwI_HnHGoO2CZA4RszykpX7XeJANMFZIZiPiwGLFzrUT5mGOyMqBOTT7Ptm_nF-hujYomhovw8QQ', 'width': 1440}], 'place_id': 'ChIJeaY2PMvZlzMRZg0-81x-1s0', 'plus_code': {'compound_code': '8466+P4 Santa Rosa, Laguna, Philippines', 'global_code': '7Q638466+P4'}, 'reference': 'ChIJeaY2PMvZlzMRZg0-81x-1s0', 'scope': 'GOOGLE', 'types': ['lodging', 'point_of_interest', 'establishment'], 'vicinity': 'LOT 7, BLK 6 Tiongco Subdivision, Santa Rosa'}, {'business_status': 'OPERATIONAL', 'geometry': {'location': {'lat': 14.3134891, 'lng': 121.1124718}, 'viewport': {'northeast': {'lat': 14.3148485802915, 'lng': 121.1137754302915}, 'southwest': {'lat': 14.3121506197085, 'lng': 121.1110774697085}}}, 'icon': 'https://maps.gstatic.com/mapfiles/place_api/icons/v1/png_71/lodging-71.png', 'name': 'Fleur de Lis Apartelle', 'place_id': 'ChIJL6t6l7rZlzMRuSsQJUv4SZY', 'plus_code': {'compound_code': '8476+9X Santa Rosa, Laguna, Philippines', 'global_code': '7Q638476+9X'}, 'rating': 4, 'reference': 'ChIJL6t6l7rZlzMRuSsQJUv4SZY', 'scope': 'GOOGLE', 'types': ['lodging', 'point_of_interest', 'establishment'], 'user_ratings_total': 1, 'vicinity': '710, Rizal Boulevard, Malusak, Santa Rosa'}, {'business_status': 'OPERATIONAL', 'geometry': {'location': {'lat': 14.3139461, 'lng': 121.1114956}, 'viewport': {'northeast': {'lat': 14.3151564302915, 'lng': 121.1128505802915}, 'southwest': {'lat': 14.3124584697085, 'lng': 121.1101526197085}}}, 'icon': 'https://maps.gstatic.com/mapfiles/place_api/icons/v1/png_71/lodging-71.png', 'name': 'emma lyn\"s garden', 'place_id': 'ChIJG5jUtc3ZlzMRbM14PhjRLLs', 'plus_code': {'compound_code': '8476+HH Biñan, Laguna, Philippines', 'global_code': '7Q638476+HH'}, 'reference': 'ChIJG5jUtc3ZlzMRbM14PhjRLLs', 'scope': 'GOOGLE', 'types': ['lodging', 'point_of_interest', 'establishment'], 'vicinity': 'Halang Road, San Francisco, Biñan'}, {'business_status': 'OPERATIONAL', 'geometry': {'location': {'lat': 14.3142778, 'lng': 121.1121051}, 'viewport': {'northeast': {'lat': 14.3156372302915, 'lng': 121.1135763802915}, 'southwest': {'lat': 14.3129392697085, 'lng': 121.1108784197085}}}, 'icon': 'https://maps.gstatic.com/mapfiles/place_api/icons/v1/png_71/lodging-71.png', 'name': 'Plaza', 'photos': [{'height': 1080, 'html_attributions': ['<a href=\"https://maps.google.com/maps/contrib/110891333847604430713\">Angelo Aranas</a>'], 'photo_reference': 'ATtYBwJAa31LIK080nuhhN6owEG4q9IGpEz6cuuOTQq4mhaj-ouctHy2zlD7kPuGhUHKDfKK6P6brbiVsY7K4zp2nWqHlav0O8jnsmHuvOsFnzzv0w7MkPizSuvI5YM6wbImeZt374wuwbLmZjTjwCyDe9oZ5vZorrY2dbe7v53iwRPH0Hyo', 'width': 1440}], 'place_id': 'ChIJAQI7YwfZlzMRkihhHaUWQrs', 'plus_code': {'compound_code': '8476+PR Santa Rosa, Laguna, Philippines', 'global_code': '7Q638476+PR'}, 'rating': 4.2, 'reference': 'ChIJAQI7YwfZlzMRkihhHaUWQrs', 'scope': 'GOOGLE', 'types': ['lodging', 'point_of_interest', 'establishment'], 'user_ratings_total': 6, 'vicinity': 'Santa Rosa'}, {'business_status': 'OPERATIONAL', 'geometry': {'location': {'lat': 14.3110696, 'lng': 121.1139381}, 'viewport': {'northeast': {'lat': 14.3124094802915, 'lng': 121.1152559802915}, 'southwest': {'lat': 14.3097115197085, 'lng': 121.1125580197085}}}, 'icon': 'https://maps.gstatic.com/mapfiles/place_api/icons/v1/png_71/lodging-71.png', 'name': \"Mommy Ruby's Villa\", 'place_id': 'ChIJaU2Qyf_ZlzMRHUYdCXErjtQ', 'plus_code': {'compound_code': '8467+CH Santa Rosa, Laguna, Philippines', 'global_code': '7Q638467+CH'}, 'reference': 'ChIJaU2Qyf_ZlzMRHUYdCXErjtQ', 'scope': 'GOOGLE', 'types': ['lodging', 'point_of_interest', 'establishment'], 'vicinity': 'Block 11 Lot 5, Garden Villas Subdivision, 2, Santa Rosa'}, {'business_status': 'OPERATIONAL', 'geometry': {'location': {'lat': 14.3110696, 'lng': 121.1139381}, 'viewport': {'northeast': {'lat': 14.3124094802915, 'lng': 121.1152559802915}, 'southwest': {'lat': 14.3097115197085, 'lng': 121.1125580197085}}}, 'icon': 'https://maps.gstatic.com/mapfiles/place_api/icons/v1/png_71/lodging-71.png', 'name': 'Takoyaki and pasta house GV3', 'photos': [{'height': 1350, 'html_attributions': ['<a href=\"https://maps.google.com/maps/contrib/117051754177630657871\">Rose Anne Lunod</a>'], 'photo_reference': 'ATtYBwKWbdaexsMRo3G3YxBZzZj0xtrPK822ZKa6guiEE-wBk0GoH2gneq2aMli01OielCtpZY1gg6imJvtKOYZS--deXz9lpbPoR4_YagLYmR3Fvng_0vF3DnNv9MxwCUtiyCUoJ7ajDu8EiGbGuJtmWA-apb2pu5-yZsLBmPEJjhsoKAXQ', 'width': 1080}], 'place_id': 'ChIJKzFmevTZlzMRsgCkJ9enfrU', 'plus_code': {'compound_code': '8467+CH Santa Rosa, Laguna, Philippines', 'global_code': '7Q638467+CH'}, 'reference': 'ChIJKzFmevTZlzMRsgCkJ9enfrU', 'scope': 'GOOGLE', 'types': ['lodging', 'point_of_interest', 'establishment'], 'vicinity': 'Blk 10 lot 32 Opal st. Phase 6, Garden Villas, 3 bgry, Santa Rosa'}, {'business_status': 'OPERATIONAL', 'geometry': {'location': {'lat': 14.3111994, 'lng': 121.1143823}, 'viewport': {'northeast': {'lat': 14.3124834802915, 'lng': 121.1155091802915}, 'southwest': {'lat': 14.3097855197085, 'lng': 121.1128112197085}}}, 'icon': 'https://maps.gstatic.com/mapfiles/place_api/icons/v1/png_71/lodging-71.png', 'name': 'Pedwin Red Plaza', 'place_id': 'ChIJhUZsjuHZlzMRlM2OKJXAlG4', 'plus_code': {'compound_code': '8467+FQ Santa Rosa, Laguna, Philippines', 'global_code': '7Q638467+FQ'}, 'reference': 'ChIJhUZsjuHZlzMRlM2OKJXAlG4', 'scope': 'GOOGLE', 'types': ['lodging', 'point_of_interest', 'establishment'], 'vicinity': 'Blk 9 Lot 49 lucerne st, phase 8 Garden Villas Subdivision, subd, Santa Rosa'}, {'business_status': 'OPERATIONAL', 'geometry': {'location': {'lat': 14.3111994, 'lng': 121.1143823}, 'viewport': {'northeast': {'lat': 14.3124834802915, 'lng': 121.1155091802915}, 'southwest': {'lat': 14.3097855197085, 'lng': 121.1128112197085}}}, 'icon': 'https://maps.gstatic.com/mapfiles/place_api/icons/v1/png_71/lodging-71.png', 'name': 'Pedwin House', 'place_id': 'ChIJ1e2xMuPZlzMRonNGNfCkZwU', 'plus_code': {'compound_code': '8467+FQ Santa Rosa, Laguna, Philippines', 'global_code': '7Q638467+FQ'}, 'reference': 'ChIJ1e2xMuPZlzMRonNGNfCkZwU', 'scope': 'GOOGLE', 'types': ['lodging', 'point_of_interest', 'establishment'], 'vicinity': 'Block 9 Lot 49 Lucerne street, Phase 8 Garden Villas Subdivision, Subd, Santa Rosa'}, {'business_status': 'OPERATIONAL', 'geometry': {'location': {'lat': 14.3111994, 'lng': 121.1143823}, 'viewport': {'northeast': {'lat': 14.3124834802915, 'lng': 121.1155091802915}, 'southwest': {'lat': 14.3097855197085, 'lng': 121.1128112197085}}}, 'icon': 'https://maps.gstatic.com/mapfiles/place_api/icons/v1/png_71/lodging-71.png', 'name': 'orion st.', 'place_id': 'ChIJjT2O1w3ZlzMRPQHkqPdqyfo', 'plus_code': {'compound_code': '8467+FQ Santa Rosa, Laguna, Philippines', 'global_code': '7Q638467+FQ'}, 'reference': 'ChIJjT2O1w3ZlzMRPQHkqPdqyfo', 'scope': 'GOOGLE', 'types': ['lodging', 'point_of_interest', 'establishment'], 'vicinity': 'phase 8, orion st, 3 Garden Villas Subdivision'}], 'status': 'OK'}\n",
      "{'html_attributions': [], 'results': [{'business_status': 'OPERATIONAL', 'geometry': {'location': {'lat': 5.792773599999999, 'lng': 0.9078537999999998}, 'viewport': {'northeast': {'lat': 5.7959008, 'lng': 0.9087376499999997}, 'southwest': {'lat': 5.791731199999997, 'lng': 0.90520225}}}, 'icon': 'https://maps.gstatic.com/mapfiles/place_api/icons/v1/png_71/lodging-71.png', 'name': 'Pin Drop Hotel', 'opening_hours': {'open_now': True}, 'photos': [{'height': 1960, 'html_attributions': ['<a href=\"https://maps.google.com/maps/contrib/104901235797191642454\">Vadim Litovchenko</a>'], 'photo_reference': 'ATtYBwK12sI2BTqd3b1WA2q4uUSef_YjYszqbbUR3f37Y0z-wg9EoTeCP1GcXnygKoPt2HTU_CgAzLEMK_b6ZPEsZDtOiux-NbrFZuX5d0wvc_wLk09tf-h_SDMmtteRFbDfxaRgYHnDlqy9Jso-oTPB2PgZbzeENfMxuE2NdUcal1JIe3TC', 'width': 4032}], 'place_id': 'ChIJMwlnfLV0IRARmYTE6nIJORs', 'plus_code': {'compound_code': 'QWV5+44 Anloga, Ghana', 'global_code': '6FQ2QWV5+44'}, 'rating': 3.5, 'reference': 'ChIJMwlnfLV0IRARmYTE6nIJORs', 'scope': 'GOOGLE', 'types': ['lodging', 'point_of_interest', 'establishment'], 'user_ratings_total': 107, 'vicinity': 'Kportorgboe, Anloga'}, {'business_status': 'OPERATIONAL', 'geometry': {'location': {'lat': 5.791623599999999, 'lng': 0.8991967999999999}, 'viewport': {'northeast': {'lat': 5.7944787, 'lng': 0.9004017802915021}, 'southwest': {'lat': 5.7906719, 'lng': 0.897703819708498}}}, 'icon': 'https://maps.gstatic.com/mapfiles/place_api/icons/v1/png_71/lodging-71.png', 'name': 'Dey Lodge', 'opening_hours': {'open_now': True}, 'photos': [{'height': 1080, 'html_attributions': ['<a href=\"https://maps.google.com/maps/contrib/108926336025343167159\">Obed Akpalu</a>'], 'photo_reference': 'ATtYBwIdkbnwpwh6CXD1RhfDF-rX3t9qEBL6BEpcOjgKOpSQBapJcAkBoLtSDXEzGErRoTmJib0YCiVMKrJawcq8zWCdShBqE88WlJjoUMa2lUvI58Xm0hLc0VB3WsOMwzfg99-exMUIDu0jGgTwd6TrP6C3AVQ-28CI_Ke3ACWMtQmnvBDl', 'width': 1920}], 'place_id': 'ChIJWTGkFSALIRARzQ5qXuIob7c', 'plus_code': {'compound_code': 'QVRX+JM Anloga, Ghana', 'global_code': '6FQ2QVRX+JM'}, 'rating': 4.5, 'reference': 'ChIJWTGkFSALIRARzQ5qXuIob7c', 'scope': 'GOOGLE', 'types': ['lodging', 'point_of_interest', 'establishment'], 'user_ratings_total': 4, 'vicinity': 'Anloga'}, {'business_status': 'OPERATIONAL', 'geometry': {'location': {'lat': 5.791722699999999, 'lng': 0.9018566}, 'viewport': {'northeast': {'lat': 5.7940855, 'lng': 0.902970580291502}, 'southwest': {'lat': 5.790935099999999, 'lng': 0.9002726197084979}}}, 'icon': 'https://maps.gstatic.com/mapfiles/place_api/icons/v1/png_71/lodging-71.png', 'name': 'Dzigbordi Lodge', 'photos': [{'height': 1440, 'html_attributions': ['<a href=\"https://maps.google.com/maps/contrib/115734067577076943655\">Jonathan Akpaloo</a>'], 'photo_reference': 'ATtYBwJeTfYGIciuByn8iw1o4HnghQoybuiXQJD4VF70PpXU8WTjfrfJj4H2MFp_-Df_DHKbI4auuwGE3bqLNm9LkpJAZD3IP70KdG0qUZYPuhRnJsd-QR3TmLEmjTAr26Ag2kGhX-zEjMVIZMlltoEPP2bWbOmuWM3rdBN04jLGRYSiW-kB', 'width': 2560}], 'place_id': 'ChIJ_____zsLIRAR3oOG7MI9dD8', 'plus_code': {'compound_code': 'QWR2+MP Anloga, Ghana', 'global_code': '6FQ2QWR2+MP'}, 'rating': 3.3, 'reference': 'ChIJ_____zsLIRAR3oOG7MI9dD8', 'scope': 'GOOGLE', 'types': ['lodging', 'point_of_interest', 'establishment'], 'user_ratings_total': 31, 'vicinity': 'Anloga'}, {'business_status': 'OPERATIONAL', 'geometry': {'location': {'lat': 5.787234299999999, 'lng': 0.8913523}, 'viewport': {'northeast': {'lat': 5.788547580291501, 'lng': 0.8934194000000001}, 'southwest': {'lat': 5.785849619708497, 'lng': 0.8851509999999999}}}, 'icon': 'https://maps.gstatic.com/mapfiles/place_api/icons/v1/png_71/lodging-71.png', 'name': 'DW Guest House', 'place_id': 'ChIJQ_3Z_zcLIRARX6PKWaRhQWQ', 'plus_code': {'compound_code': 'QVPR+VG Anloga, Ghana', 'global_code': '6FQ2QVPR+VG'}, 'reference': 'ChIJQ_3Z_zcLIRARX6PKWaRhQWQ', 'scope': 'GOOGLE', 'types': ['lodging', 'point_of_interest', 'establishment'], 'vicinity': 'Dornorgbor, Anloga'}, {'business_status': 'OPERATIONAL', 'geometry': {'location': {'lat': 5.789965500000001, 'lng': 0.9068109}, 'viewport': {'northeast': {'lat': 5.791314480291504, 'lng': 0.9081598802915021}, 'southwest': {'lat': 5.7886165197085, 'lng': 0.905461919708498}}}, 'icon': 'https://maps.gstatic.com/mapfiles/place_api/icons/v1/png_71/lodging-71.png', 'name': 'Fla-shie, Fla-shie Nor memorial', 'place_id': 'ChIJP5NJ5bh1IRAREWUznbmiEws', 'plus_code': {'compound_code': 'QWQ4+XP Anloga, Ghana', 'global_code': '6FQ2QWQ4+XP'}, 'reference': 'ChIJP5NJ5bh1IRAREWUznbmiEws', 'scope': 'GOOGLE', 'types': ['lodging', 'point_of_interest', 'establishment'], 'vicinity': 'Anloga'}, {'business_status': 'OPERATIONAL', 'geometry': {'location': {'lat': 5.789565199999999, 'lng': 0.9088136000000002}, 'viewport': {'northeast': {'lat': 5.790914180291502, 'lng': 0.9101625802915022}, 'southwest': {'lat': 5.788216219708497, 'lng': 0.9074646197084981}}}, 'icon': 'https://maps.gstatic.com/mapfiles/place_api/icons/v1/png_71/lodging-71.png', 'name': 'Bulls and Anchor Inn', 'photos': [{'height': 720, 'html_attributions': ['<a href=\"https://maps.google.com/maps/contrib/111966642104661343472\">Dorothy Suzzy Agboada</a>'], 'photo_reference': 'ATtYBwLHsgaRRhpmGE_0qj28eBCwX_23RYgzpmyV6H7yraQL2LvThA4JFfj2-U1Gwyn69BvuTNjHE_juBAXPYr3dzx5SZ1GHVkzGT3DhiiORUrT698XEhAyF61DfnrUFhqmhs9GbRb3uHuU6bd8Lmcb908QRfRooBoymIZ6drW81lR68wf4Y', 'width': 1080}], 'place_id': 'ChIJn7Q6xpJ1IRARNmJjXsqRQXc', 'plus_code': {'compound_code': 'QWQ5+RG Anloga, Ghana', 'global_code': '6FQ2QWQ5+RG'}, 'rating': 4.8, 'reference': 'ChIJn7Q6xpJ1IRARNmJjXsqRQXc', 'scope': 'GOOGLE', 'types': ['lodging', 'point_of_interest', 'establishment'], 'user_ratings_total': 12, 'vicinity': 'Kportorgbey Beach Road, Anloga'}, {'business_status': 'OPERATIONAL', 'geometry': {'location': {'lat': 5.796500000000001, 'lng': 0.911}, 'viewport': {'northeast': {'lat': 5.798127480291502, 'lng': 0.9122923802915021}, 'southwest': {'lat': 5.795429519708497, 'lng': 0.909594419708498}}}, 'icon': 'https://maps.gstatic.com/mapfiles/place_api/icons/v1/png_71/lodging-71.png', 'name': 'Dzigbodi Guest Houselon', 'photos': [{'height': 1836, 'html_attributions': ['<a href=\"https://maps.google.com/maps/contrib/107701836370231618030\">Dreamland klenam</a>'], 'photo_reference': 'ATtYBwIfcvJTR7uR2fpOv7NUP8b8bPgoM1Fr5nI5xJWverN6mx27Uj6MrtjtW33n371z9irpQP5M2GbdvSjmTgWsO6w3sbJkeSAKjbTCElhwnVThMGh_RZbufrgi_BKa_HHR4aC33EW6X5947AA9rP0bVLgtZFr2hCaViq1d4O1TUikARQLV', 'width': 3264}], 'place_id': 'ChIJI6-3orZ0IRARALWfXzExMhQ', 'plus_code': {'compound_code': 'QWW6+HC Anloga, Ghana', 'global_code': '6FQ2QWW6+HC'}, 'rating': 3.1, 'reference': 'ChIJI6-3orZ0IRARALWfXzExMhQ', 'scope': 'GOOGLE', 'types': ['lodging', 'point_of_interest', 'establishment'], 'user_ratings_total': 27, 'vicinity': 'Fiamewle Street, Llagbatitagba, Anloga'}, {'business_status': 'OPERATIONAL', 'geometry': {'location': {'lat': 5.7984044, 'lng': 0.9151146000000001}, 'viewport': {'northeast': {'lat': 5.800428949999999, 'lng': 0.9162181302915022}, 'southwest': {'lat': 5.797729550000001, 'lng': 0.9135201697084981}}}, 'icon': 'https://maps.gstatic.com/mapfiles/place_api/icons/v1/png_71/lodging-71.png', 'name': 'DW Guest House', 'photos': [{'height': 3024, 'html_attributions': ['<a href=\"https://maps.google.com/maps/contrib/106950117483060717206\">Michael Donovan</a>'], 'photo_reference': 'ATtYBwLx47XnYYI30PG4zQgLYIHqwirz7Ii0WoIn1bYx9ftS8nmA_laKik2AnRtlK91InYqqAy75_gqlRFiVB_3jSx0EXWEtN5vGfLJRcZ9rwSZWD2IjDCxB0TvgwgOAME20xbkTd9gfKaoyDBOerv4bwGb-slEAzpHJqra9Uu80cRrymr3P', 'width': 4032}], 'place_id': 'ChIJj-LYWM51IRARCz8JD9Zt0Y0', 'plus_code': {'compound_code': 'QWX8+92 Anloga, Ghana', 'global_code': '6FQ2QWX8+92'}, 'rating': 4.7, 'reference': 'ChIJj-LYWM51IRARCz8JD9Zt0Y0', 'scope': 'GOOGLE', 'types': ['lodging', 'point_of_interest', 'establishment'], 'user_ratings_total': 3, 'vicinity': 'Anloga'}, {'business_status': 'OPERATIONAL', 'geometry': {'location': {'lat': 5.798420699999999, 'lng': 0.9152292999999998}, 'viewport': {'northeast': {'lat': 5.8004784, 'lng': 0.9163288302915019}, 'southwest': {'lat': 5.797734799999999, 'lng': 0.9136308697084978}}}, 'icon': 'https://maps.gstatic.com/mapfiles/place_api/icons/v1/png_71/lodging-71.png', 'name': 'WD Guest House', 'opening_hours': {'open_now': True}, 'photos': [{'height': 1000, 'html_attributions': ['<a href=\"https://maps.google.com/maps/contrib/118250082291349708965\">WD Guest House</a>'], 'photo_reference': 'ATtYBwI59ndCqqmM1QW3F9_rQwGjzexON4e48dozpZPls0dxzr_X6-k0CzAIj8Pytzcxb20J2Wu1JNMo8nE3Dg0pJx-etWeJLE2rATQE0UrbhGAPh8XUHF1R9I0kg34yJseTWMKH1sxc4WgXhgNSM7RkcSNdxw_eR1yW8ObeF8bQDxNn0kAa', 'width': 750}], 'place_id': 'ChIJabJ6MBd1IRARQs1rP5RCqKM', 'plus_code': {'compound_code': 'QWX8+93 Anloga, Ghana', 'global_code': '6FQ2QWX8+93'}, 'rating': 4, 'reference': 'ChIJabJ6MBd1IRARQs1rP5RCqKM', 'scope': 'GOOGLE', 'types': ['lodging', 'point_of_interest', 'establishment'], 'user_ratings_total': 3, 'vicinity': \"Quarter's Road, Anloga\"}], 'status': 'OK'}\n"
     ]
    }
   ],
   "source": [
    "# 6a. Set parameters to search for hotels with 5000 meters.\n",
    "params = {\n",
    "    \"radius\": 5000,\n",
    "    \"type\": \"lodging\",\n",
    "    \"key\": g_key\n",
    "}\n",
    "\n",
    "# 6b. Iterate through the hotel DataFrame.\n",
    "\n",
    "for index, row in hotel_df.iterrows():\n",
    "\n",
    "    # 6c. Get latitude and longitude from DataFrame\n",
    "\n",
    "    lat = row[\"Lat\"]\n",
    "    lng = row[\"Lng\"]\n",
    "    params['location'] = f'{lat},{lng}'\n",
    "\n",
    "    # 6d. Set up the base URL for the Google Directions API to get JSON data.\n",
    "    \n",
    "    base_url = \"https://maps.googleapis.com/maps/api/place/nearbysearch/json\"\n",
    "\n",
    "    # 6e. Make request and retrieve the JSON data from the search. \n",
    "\n",
    "    hotels = requests.get(base_url, params=params).json()\n",
    "\n",
    "    # 6f. Get the first hotel from the results and store the name, if a hotel isn't found skip the city.\n",
    "    try:\n",
    "      hotel_df.loc[index, \"Hotel Name\"] = hotels[\"results\"][0][\"name\"]\n",
    "    except (IndexError):\n",
    "      print(\"Hotel not found... skipping.\")\n",
    "\n",
    "    print(hotels)      "
   ]
  },
  {
   "cell_type": "code",
   "execution_count": 32,
   "metadata": {},
   "outputs": [],
   "source": [
    "# 7. Drop the rows where there is no Hotel Name.\n",
    "\n",
    "clean_hotel_df = hotel_df.dropna()\n"
   ]
  },
  {
   "cell_type": "code",
   "execution_count": 33,
   "metadata": {},
   "outputs": [],
   "source": [
    "# 8a. Create the output File (CSV)\n",
    "\n",
    "output_data_file = \"WeatherPy_vacation.csv\"\n",
    "\n",
    "# 8b. Export the City_Data into a csv\n",
    "clean_hotel_df.to_csv(output_data_file, index_label=\"City_ID\")"
   ]
  },
  {
   "cell_type": "code",
   "execution_count": 34,
   "metadata": {},
   "outputs": [],
   "source": [
    "# 9. Using the template add city name, the country code, the weather description and maximum temperature for the city.\n",
    "info_box_template = \"\"\"\n",
    "\n",
    "\"\"\"\n",
    "\n",
    "# 10a. Get the data from each row and add it to the formatting template and store the data in a list.\n",
    "hotel_info = [info_box_template.format(**row) for index, row in clean_hotel_df.iterrows()]\n",
    "\n",
    "# 10b. Get the latitude and longitude from each row and store in a new DataFrame.\n",
    "locations = clean_hotel_df[[\"Lat\", \"Lng\"]]"
   ]
  },
  {
   "cell_type": "code",
   "execution_count": 35,
   "metadata": {},
   "outputs": [
    {
     "output_type": "display_data",
     "data": {
      "text/plain": "Figure(layout=FigureLayout(height='420px'))",
      "application/vnd.jupyter.widget-view+json": {
       "version_major": 2,
       "version_minor": 0,
       "model_id": "c864a4c074b44f9a88906e5d09fb12bb"
      }
     },
     "metadata": {}
    }
   ],
   "source": [
    "# 11a. Add a marker layer for each city to the map. \n",
    "\n",
    "info_box_content = \"\"\"\n",
    "<dl>\n",
    "<dt>Hotel Name</dt><dd>{Hotel Name}</dd>\n",
    "<dt>City</dt><dd>{City}</dd>\n",
    "<dt>Country</dt><dd>{Country}</dd>\n",
    "<dt>Max Temp</dt><dd>{Max Temp} °F</dd>\n",
    "</dl>\n",
    "\"\"\"\n",
    "\n",
    "locations = hotel_df[[\"Lat\", \"Lng\"]]\n",
    "max_temp = hotel_df[\"Max Temp\"]\n",
    "fig = gmaps.figure(center=(30.0, 31.0), zoom_level=1.5)\n",
    "heat_layer = gmaps.heatmap_layer(locations, weights=max_temp,dissipating=False,\n",
    "             max_intensity=300, point_radius=4)\n",
    "marker_layer = gmaps.marker_layer(locations, info_box_content=hotel_info)\n",
    "fig.add_layer(heat_layer)\n",
    "fig.add_layer(marker_layer)\n",
    "\n",
    "# Store the DataFrame Row.\n",
    "hotel_info = [info_box_content.format(**row) for index, row in hotel_df.iterrows()]\n",
    "\n",
    "# 11b. Display the figure\n",
    "\n",
    "fig\n"
   ]
  },
  {
   "cell_type": "code",
   "execution_count": null,
   "metadata": {},
   "outputs": [],
   "source": []
  },
  {
   "cell_type": "code",
   "execution_count": null,
   "metadata": {},
   "outputs": [],
   "source": []
  }
 ],
 "metadata": {
  "kernelspec": {
   "name": "pythondata",
   "display_name": "Python 3.8.5 64-bit ('base': conda)"
  },
  "language_info": {
   "codemirror_mode": {
    "name": "ipython",
    "version": 3
   },
   "file_extension": ".py",
   "mimetype": "text/x-python",
   "name": "python",
   "nbconvert_exporter": "python",
   "pygments_lexer": "ipython3",
   "version": "3.8.5"
  },
  "latex_envs": {
   "LaTeX_envs_menu_present": true,
   "autoclose": false,
   "autocomplete": true,
   "bibliofile": "biblio.bib",
   "cite_by": "apalike",
   "current_citInitial": 1,
   "eqLabelWithNumbers": true,
   "eqNumInitial": 1,
   "hotkeys": {
    "equation": "Ctrl-E",
    "itemize": "Ctrl-I"
   },
   "labels_anchors": false,
   "latex_user_defs": false,
   "report_style_numbering": false,
   "user_envs_cfg": false
  }
 },
 "nbformat": 4,
 "nbformat_minor": 2
}