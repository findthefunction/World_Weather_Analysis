{
 "cells": [
  {
   "cell_type": "markdown",
   "metadata": {},
   "source": [
    "## Deliverable 3. Create a Travel Itinerary Map."
   ]
  },
  {
   "cell_type": "code",
   "execution_count": 85,
   "metadata": {},
   "outputs": [],
   "source": [
    "# Dependencies and Setup\n",
    "import pandas as pd\n",
    "import requests\n",
    "import gmaps\n",
    "\n",
    "# Import API key\n",
    "from config import g_key\n",
    "\n",
    "# Configure gmaps\n",
    "gmaps.configure(api_key=g_key)"
   ]
  },
  {
   "cell_type": "code",
   "execution_count": 86,
   "metadata": {},
   "outputs": [
    {
     "output_type": "execute_result",
     "data": {
      "text/plain": [
       "   City_ID         City Country  Max Temp Current Description      Lat  \\\n",
       "0        0    Mount Isa      AU     84.20          few clouds -20.7333   \n",
       "1        1  Mitsamiouli      KM     81.32          light rain -11.3847   \n",
       "2        2    Geraldton      AU     89.60     overcast clouds -28.7667   \n",
       "3       11  Santa Marta      CO     82.00          few clouds  11.2408   \n",
       "4       13       Twante      MM     86.00       broken clouds  16.7167   \n",
       "\n",
       "        Lng                 Hotel Name  \n",
       "0  139.5000  ibis Styles Mt Isa Verona  \n",
       "1   43.2844                  Foyer ADM  \n",
       "2  114.6000  Broadwater Mariner Resort  \n",
       "3  -74.1990           Casa de Isabella  \n",
       "4   95.9333                 Dream Land  "
      ],
      "text/html": "<div>\n<style scoped>\n    .dataframe tbody tr th:only-of-type {\n        vertical-align: middle;\n    }\n\n    .dataframe tbody tr th {\n        vertical-align: top;\n    }\n\n    .dataframe thead th {\n        text-align: right;\n    }\n</style>\n<table border=\"1\" class=\"dataframe\">\n  <thead>\n    <tr style=\"text-align: right;\">\n      <th></th>\n      <th>City_ID</th>\n      <th>City</th>\n      <th>Country</th>\n      <th>Max Temp</th>\n      <th>Current Description</th>\n      <th>Lat</th>\n      <th>Lng</th>\n      <th>Hotel Name</th>\n    </tr>\n  </thead>\n  <tbody>\n    <tr>\n      <th>0</th>\n      <td>0</td>\n      <td>Mount Isa</td>\n      <td>AU</td>\n      <td>84.20</td>\n      <td>few clouds</td>\n      <td>-20.7333</td>\n      <td>139.5000</td>\n      <td>ibis Styles Mt Isa Verona</td>\n    </tr>\n    <tr>\n      <th>1</th>\n      <td>1</td>\n      <td>Mitsamiouli</td>\n      <td>KM</td>\n      <td>81.32</td>\n      <td>light rain</td>\n      <td>-11.3847</td>\n      <td>43.2844</td>\n      <td>Foyer ADM</td>\n    </tr>\n    <tr>\n      <th>2</th>\n      <td>2</td>\n      <td>Geraldton</td>\n      <td>AU</td>\n      <td>89.60</td>\n      <td>overcast clouds</td>\n      <td>-28.7667</td>\n      <td>114.6000</td>\n      <td>Broadwater Mariner Resort</td>\n    </tr>\n    <tr>\n      <th>3</th>\n      <td>11</td>\n      <td>Santa Marta</td>\n      <td>CO</td>\n      <td>82.00</td>\n      <td>few clouds</td>\n      <td>11.2408</td>\n      <td>-74.1990</td>\n      <td>Casa de Isabella</td>\n    </tr>\n    <tr>\n      <th>4</th>\n      <td>13</td>\n      <td>Twante</td>\n      <td>MM</td>\n      <td>86.00</td>\n      <td>broken clouds</td>\n      <td>16.7167</td>\n      <td>95.9333</td>\n      <td>Dream Land</td>\n    </tr>\n  </tbody>\n</table>\n</div>"
     },
     "metadata": {},
     "execution_count": 86
    }
   ],
   "source": [
    "# 1. Read the WeatherPy_vacation.csv into a DataFrame.\n",
    "vacation_df = pd.read_csv(\"../Vacation_Search/WeatherPy_vacation.csv\")\n",
    "vacation_df.head()"
   ]
  },
  {
   "cell_type": "code",
   "execution_count": 87,
   "metadata": {
    "tags": [
     "outputPrepend"
    ]
   },
   "outputs": [
    {
     "output_type": "stream",
     "name": "stdout",
     "text": [
      "Pilotis</dd>\\n<dt>City</dt><dd>Kousseri</dd>\\n<dt>Country</dt><dd>CM</dd>\\n<dt>Max Temp</dt><dd>80.6 °F</dd>\\n<dt>Current Weather</dt><dd>clear sky</dd>\\n<dt>City ID</dt><dd>119</dd>\\n\\n</dl>\\n\\n', '<dt>Hotel Name</dt><dd>Hotel Tesoro Los Cabos</dd>\\n<dt>City</dt><dd>Cabo San Lucas</dd>\\n<dt>Country</dt><dd>MX</dd>\\n<dt>Max Temp</dt><dd>80.6 °F</dd>\\n<dt>Current Weather</dt><dd>scattered clouds</dd>\\n<dt>City ID</dt><dd>128</dd>\\n\\n</dl>\\n\\n', '<dt>Hotel Name</dt><dd>Quinta Belem</dd>\\n<dt>City</dt><dd>Matamoros</dd>\\n<dt>Country</dt><dd>MX</dd>\\n<dt>Max Temp</dt><dd>87.8 °F</dd>\\n<dt>Current Weather</dt><dd>clear sky</dd>\\n<dt>City ID</dt><dd>150</dd>\\n\\n</dl>\\n\\n', '<dt>Hotel Name</dt><dd>Bonifacio Lodge</dd>\\n<dt>City</dt><dd>Pandan</dd>\\n<dt>Country</dt><dd>PH</dd>\\n<dt>Max Temp</dt><dd>82.85 °F</dd>\\n<dt>Current Weather</dt><dd>scattered clouds</dd>\\n<dt>City ID</dt><dd>156</dd>\\n\\n</dl>\\n\\n', '<dt>Hotel Name</dt><dd>Hostal Residencia Morenita</dd>\\n<dt>City</dt><dd>Malabo</dd>\\n<dt>Country</dt><dd>GQ</dd>\\n<dt>Max Temp</dt><dd>80.6 °F</dd>\\n<dt>Current Weather</dt><dd>few clouds</dd>\\n<dt>City ID</dt><dd>157</dd>\\n\\n</dl>\\n\\n', '<dt>Hotel Name</dt><dd>nan</dd>\\n<dt>City</dt><dd>Taoudenni</dd>\\n<dt>Country</dt><dd>ML</dd>\\n<dt>Max Temp</dt><dd>80.19 °F</dd>\\n<dt>Current Weather</dt><dd>clear sky</dd>\\n<dt>City ID</dt><dd>159</dd>\\n\\n</dl>\\n\\n', '<dt>Hotel Name</dt><dd>SEGAYA PROPERTY</dd>\\n<dt>City</dt><dd>Dingle</dd>\\n<dt>Country</dt><dd>PH</dd>\\n<dt>Max Temp</dt><dd>87.15 °F</dd>\\n<dt>Current Weather</dt><dd>broken clouds</dd>\\n<dt>City ID</dt><dd>166</dd>\\n\\n</dl>\\n\\n', '<dt>Hotel Name</dt><dd>Storyboard Beach Resort</dd>\\n<dt>City</dt><dd>Kloulklubed</dd>\\n<dt>Country</dt><dd>PW</dd>\\n<dt>Max Temp</dt><dd>82.4 °F</dd>\\n<dt>Current Weather</dt><dd>broken clouds</dd>\\n<dt>City ID</dt><dd>172</dd>\\n\\n</dl>\\n\\n', '<dt>Hotel Name</dt><dd>PT PPI Lamongan Tambak C</dd>\\n<dt>City</dt><dd>Labuhan</dd>\\n<dt>Country</dt><dd>ID</dd>\\n<dt>Max Temp</dt><dd>81.88 °F</dd>\\n<dt>Current Weather</dt><dd>broken clouds</dd>\\n<dt>City ID</dt><dd>178</dd>\\n\\n</dl>\\n\\n', '<dt>Hotel Name</dt><dd>Shelly Bay Resort</dd>\\n<dt>City</dt><dd>Hervey Bay</dd>\\n<dt>Country</dt><dd>AU</dd>\\n<dt>Max Temp</dt><dd>87.8 °F</dd>\\n<dt>Current Weather</dt><dd>broken clouds</dd>\\n<dt>City ID</dt><dd>184</dd>\\n\\n</dl>\\n\\n', '<dt>Hotel Name</dt><dd>Weligama Bay Resort</dd>\\n<dt>City</dt><dd>Weligama</dd>\\n<dt>Country</dt><dd>LK</dd>\\n<dt>Max Temp</dt><dd>81.63 °F</dd>\\n<dt>Current Weather</dt><dd>few clouds</dd>\\n<dt>City ID</dt><dd>196</dd>\\n\\n</dl>\\n\\n', '<dt>Hotel Name</dt><dd>Kong Kham Pheng Guesthouse</dd>\\n<dt>City</dt><dd>Pakxan</dd>\\n<dt>Country</dt><dd>LA</dd>\\n<dt>Max Temp</dt><dd>87.13 °F</dd>\\n<dt>Current Weather</dt><dd>light rain</dd>\\n<dt>City ID</dt><dd>201</dd>\\n\\n</dl>\\n\\n', '<dt>Hotel Name</dt><dd>Mystic Sands</dd>\\n<dt>City</dt><dd>Neiafu</dd>\\n<dt>Country</dt><dd>TO</dd>\\n<dt>Max Temp</dt><dd>80.6 °F</dd>\\n<dt>Current Weather</dt><dd>scattered clouds</dd>\\n<dt>City ID</dt><dd>202</dd>\\n\\n</dl>\\n\\n', '<dt>Hotel Name</dt><dd>Elimtop</dd>\\n<dt>City</dt><dd>Wukari</dd>\\n<dt>Country</dt><dd>NG</dd>\\n<dt>Max Temp</dt><dd>81.03 °F</dd>\\n<dt>Current Weather</dt><dd>overcast clouds</dd>\\n<dt>City ID</dt><dd>207</dd>\\n\\n</dl>\\n\\n', '<dt>Hotel Name</dt><dd>Namatanai Hotel</dd>\\n<dt>City</dt><dd>Namatanai</dd>\\n<dt>Country</dt><dd>PG</dd>\\n<dt>Max Temp</dt><dd>82.17 °F</dd>\\n<dt>Current Weather</dt><dd>light rain</dd>\\n<dt>City ID</dt><dd>209</dd>\\n\\n</dl>\\n\\n', '<dt>Hotel Name</dt><dd>Bora-Bora Pearl Beach Resort & Spa</dd>\\n<dt>City</dt><dd>Faanui</dd>\\n<dt>Country</dt><dd>PF</dd>\\n<dt>Max Temp</dt><dd>82.6 °F</dd>\\n<dt>Current Weather</dt><dd>scattered clouds</dd>\\n<dt>City ID</dt><dd>214</dd>\\n\\n</dl>\\n\\n', '<dt>Hotel Name</dt><dd>College hostel</dd>\\n<dt>City</dt><dd>Jamalpur</dd>\\n<dt>Country</dt><dd>BD</dd>\\n<dt>Max Temp</dt><dd>86.16 °F</dd>\\n<dt>Current Weather</dt><dd>clear sky</dd>\\n<dt>City ID</dt><dd>215</dd>\\n\\n</dl>\\n\\n', '<dt>Hotel Name</dt><dd>Lords Inn Somnath</dd>\\n<dt>City</dt><dd>Veraval</dd>\\n<dt>Country</dt><dd>IN</dd>\\n<dt>Max Temp</dt><dd>82.17 °F</dd>\\n<dt>Current Weather</dt><dd>clear sky</dd>\\n<dt>City ID</dt><dd>217</dd>\\n\\n</dl>\\n\\n', '<dt>Hotel Name</dt><dd>Colinas de Matasiete</dd>\\n<dt>City</dt><dd>La Asuncion</dd>\\n<dt>Country</dt><dd>VE</dd>\\n<dt>Max Temp</dt><dd>80.6 °F</dd>\\n<dt>Current Weather</dt><dd>overcast clouds</dd>\\n<dt>City ID</dt><dd>220</dd>\\n\\n</dl>\\n\\n', '<dt>Hotel Name</dt><dd>Hoang Yen Canary Hotel</dd>\\n<dt>City</dt><dd>Qui Nhon</dd>\\n<dt>Country</dt><dd>VN</dd>\\n<dt>Max Temp</dt><dd>83.19 °F</dd>\\n<dt>Current Weather</dt><dd>overcast clouds</dd>\\n<dt>City ID</dt><dd>234</dd>\\n\\n</dl>\\n\\n', '<dt>Hotel Name</dt><dd>Ungoofaaru Inn</dd>\\n<dt>City</dt><dd>Ugoofaaru</dd>\\n<dt>Country</dt><dd>MV</dd>\\n<dt>Max Temp</dt><dd>82.96 °F</dd>\\n<dt>Current Weather</dt><dd>clear sky</dd>\\n<dt>City ID</dt><dd>237</dd>\\n\\n</dl>\\n\\n', '<dt>Hotel Name</dt><dd>Lorengau Harbourside Hotel</dd>\\n<dt>City</dt><dd>Lorengau</dd>\\n<dt>Country</dt><dd>PG</dd>\\n<dt>Max Temp</dt><dd>82.47 °F</dd>\\n<dt>Current Weather</dt><dd>overcast clouds</dd>\\n<dt>City ID</dt><dd>240</dd>\\n\\n</dl>\\n\\n', '<dt>Hotel Name</dt><dd>The Hamsa Resort</dd>\\n<dt>City</dt><dd>Banjar</dd>\\n<dt>Country</dt><dd>ID</dd>\\n<dt>Max Temp</dt><dd>86.0 °F</dd>\\n<dt>Current Weather</dt><dd>scattered clouds</dd>\\n<dt>City ID</dt><dd>242</dd>\\n\\n</dl>\\n\\n', '<dt>Hotel Name</dt><dd>Swiss Belhotel Sharjah</dd>\\n<dt>City</dt><dd>Sharjah</dd>\\n<dt>Country</dt><dd>AE</dd>\\n<dt>Max Temp</dt><dd>80.6 °F</dd>\\n<dt>Current Weather</dt><dd>clear sky</dd>\\n<dt>City ID</dt><dd>244</dd>\\n\\n</dl>\\n\\n', '<dt>Hotel Name</dt><dd>True Treasure Hotel</dd>\\n<dt>City</dt><dd>Taunggyi</dd>\\n<dt>Country</dt><dd>MM</dd>\\n<dt>Max Temp</dt><dd>80.35 °F</dd>\\n<dt>Current Weather</dt><dd>few clouds</dd>\\n<dt>City ID</dt><dd>247</dd>\\n\\n</dl>\\n\\n', '<dt>Hotel Name</dt><dd>Grand Vilia Hotel</dd>\\n<dt>City</dt><dd>Tual</dd>\\n<dt>Country</dt><dd>ID</dd>\\n<dt>Max Temp</dt><dd>83.55 °F</dd>\\n<dt>Current Weather</dt><dd>broken clouds</dd>\\n<dt>City ID</dt><dd>255</dd>\\n\\n</dl>\\n\\n', '<dt>Hotel Name</dt><dd>Grage Hotel Bengkulu</dd>\\n<dt>City</dt><dd>Bengkulu</dd>\\n<dt>Country</dt><dd>ID</dd>\\n<dt>Max Temp</dt><dd>83.5 °F</dd>\\n<dt>Current Weather</dt><dd>scattered clouds</dd>\\n<dt>City ID</dt><dd>259</dd>\\n\\n</dl>\\n\\n', '<dt>Hotel Name</dt><dd>Screensaver</dd>\\n<dt>City</dt><dd>Harper</dd>\\n<dt>Country</dt><dd>LR</dd>\\n<dt>Max Temp</dt><dd>80.01 °F</dd>\\n<dt>Current Weather</dt><dd>broken clouds</dd>\\n<dt>City ID</dt><dd>261</dd>\\n\\n</dl>\\n\\n', '<dt>Hotel Name</dt><dd>Shree Yatindrasuri Indra Bhavan</dd>\\n<dt>City</dt><dd>Alirajpur</dd>\\n<dt>Country</dt><dd>IN</dd>\\n<dt>Max Temp</dt><dd>86.47 °F</dd>\\n<dt>Current Weather</dt><dd>clear sky</dd>\\n<dt>City ID</dt><dd>262</dd>\\n\\n</dl>\\n\\n', '<dt>Hotel Name</dt><dd>nan</dd>\\n<dt>City</dt><dd>Kidal</dd>\\n<dt>Country</dt><dd>ML</dd>\\n<dt>Max Temp</dt><dd>81.54 °F</dd>\\n<dt>Current Weather</dt><dd>clear sky</dd>\\n<dt>City ID</dt><dd>277</dd>\\n\\n</dl>\\n\\n', '<dt>Hotel Name</dt><dd>Nuli Sapi</dd>\\n<dt>City</dt><dd>Samarai</dd>\\n<dt>Country</dt><dd>PG</dd>\\n<dt>Max Temp</dt><dd>83.32 °F</dd>\\n<dt>Current Weather</dt><dd>overcast clouds</dd>\\n<dt>City ID</dt><dd>284</dd>\\n\\n</dl>\\n\\n', '<dt>Hotel Name</dt><dd>Gite de la RYAWA</dd>\\n<dt>City</dt><dd>Moindou</dd>\\n<dt>Country</dt><dd>NC</dd>\\n<dt>Max Temp</dt><dd>82.4 °F</dd>\\n<dt>Current Weather</dt><dd>broken clouds</dd>\\n<dt>City ID</dt><dd>286</dd>\\n\\n</dl>\\n\\n', '<dt>Hotel Name</dt><dd>InterContinental Riyadh</dd>\\n<dt>City</dt><dd>Riyadh</dd>\\n<dt>Country</dt><dd>SA</dd>\\n<dt>Max Temp</dt><dd>80.6 °F</dd>\\n<dt>Current Weather</dt><dd>clear sky</dd>\\n<dt>City ID</dt><dd>290</dd>\\n\\n</dl>\\n\\n', '<dt>Hotel Name</dt><dd>Pondok Wisata Elim</dd>\\n<dt>City</dt><dd>Waingapu</dd>\\n<dt>Country</dt><dd>ID</dd>\\n<dt>Max Temp</dt><dd>85.15 °F</dd>\\n<dt>Current Weather</dt><dd>broken clouds</dd>\\n<dt>City ID</dt><dd>292</dd>\\n\\n</dl>\\n\\n', '<dt>Hotel Name</dt><dd>Malim</dd>\\n<dt>City</dt><dd>Malim</dd>\\n<dt>Country</dt><dd>PH</dd>\\n<dt>Max Temp</dt><dd>82.74 °F</dd>\\n<dt>Current Weather</dt><dd>scattered clouds</dd>\\n<dt>City ID</dt><dd>300</dd>\\n\\n</dl>\\n\\n', '<dt>Hotel Name</dt><dd>Pharmacie alnadja Moussoro</dd>\\n<dt>City</dt><dd>Moussoro</dd>\\n<dt>Country</dt><dd>TD</dd>\\n<dt>Max Temp</dt><dd>80.44 °F</dd>\\n<dt>Current Weather</dt><dd>scattered clouds</dd>\\n<dt>City ID</dt><dd>302</dd>\\n\\n</dl>\\n\\n', '<dt>Hotel Name</dt><dd>VL Lungmuana In</dd>\\n<dt>City</dt><dd>North Vanlaiphai</dd>\\n<dt>Country</dt><dd>IN</dd>\\n<dt>Max Temp</dt><dd>81.73 °F</dd>\\n<dt>Current Weather</dt><dd>clear sky</dd>\\n<dt>City ID</dt><dd>305</dd>\\n\\n</dl>\\n\\n', '<dt>Hotel Name</dt><dd>Hotel Syariah CN Darussalam</dd>\\n<dt>City</dt><dd>Sibolga</dd>\\n<dt>Country</dt><dd>ID</dd>\\n<dt>Max Temp</dt><dd>84.87 °F</dd>\\n<dt>Current Weather</dt><dd>scattered clouds</dd>\\n<dt>City ID</dt><dd>323</dd>\\n\\n</dl>\\n\\n', '<dt>Hotel Name</dt><dd>Hotel Narayan Avezika Comfort</dd>\\n<dt>City</dt><dd>Dwarka</dd>\\n<dt>Country</dt><dd>IN</dd>\\n<dt>Max Temp</dt><dd>80.89 °F</dd>\\n<dt>Current Weather</dt><dd>clear sky</dd>\\n<dt>City ID</dt><dd>324</dd>\\n\\n</dl>\\n\\n', '<dt>Hotel Name</dt><dd>Railway Officers Rest House Shahdol</dd>\\n<dt>City</dt><dd>Shahdol</dd>\\n<dt>Country</dt><dd>IN</dd>\\n<dt>Max Temp</dt><dd>88.11 °F</dd>\\n<dt>Current Weather</dt><dd>few clouds</dd>\\n<dt>City ID</dt><dd>346</dd>\\n\\n</dl>\\n\\n', '<dt>Hotel Name</dt><dd>Zaky Homestay</dd>\\n<dt>City</dt><dd>Muncar</dd>\\n<dt>Country</dt><dd>ID</dd>\\n<dt>Max Temp</dt><dd>86.0 °F</dd>\\n<dt>Current Weather</dt><dd>scattered clouds</dd>\\n<dt>City ID</dt><dd>351</dd>\\n\\n</dl>\\n\\n', '<dt>Hotel Name</dt><dd>The Regency Hotel</dd>\\n<dt>City</dt><dd>Yanam</dd>\\n<dt>Country</dt><dd>IN</dd>\\n<dt>Max Temp</dt><dd>86.0 °F</dd>\\n<dt>Current Weather</dt><dd>haze</dd>\\n<dt>City ID</dt><dd>362</dd>\\n\\n</dl>\\n\\n', '<dt>Hotel Name</dt><dd>Sur Plaza Hotel</dd>\\n<dt>City</dt><dd>Sur</dd>\\n<dt>Country</dt><dd>OM</dd>\\n<dt>Max Temp</dt><dd>81.52 °F</dd>\\n<dt>Current Weather</dt><dd>clear sky</dd>\\n<dt>City ID</dt><dd>372</dd>\\n\\n</dl>\\n\\n', '<dt>Hotel Name</dt><dd>nan</dd>\\n<dt>City</dt><dd>Lumatil</dd>\\n<dt>Country</dt><dd>PH</dd>\\n<dt>Max Temp</dt><dd>86.0 °F</dd>\\n<dt>Current Weather</dt><dd>scattered clouds</dd>\\n<dt>City ID</dt><dd>380</dd>\\n\\n</dl>\\n\\n', '<dt>Hotel Name</dt><dd>Complexe</dd>\\n<dt>City</dt><dd>Maine-Soroa</dd>\\n<dt>Country</dt><dd>NE</dd>\\n<dt>Max Temp</dt><dd>80.1 °F</dd>\\n<dt>Current Weather</dt><dd>overcast clouds</dd>\\n<dt>City ID</dt><dd>389</dd>\\n\\n</dl>\\n\\n', '<dt>Hotel Name</dt><dd>Hotels in Lakshadweep Islands</dd>\\n<dt>City</dt><dd>Kavaratti</dd>\\n<dt>Country</dt><dd>IN</dd>\\n<dt>Max Temp</dt><dd>83.21 °F</dd>\\n<dt>Current Weather</dt><dd>overcast clouds</dd>\\n<dt>City ID</dt><dd>400</dd>\\n\\n</dl>\\n\\n', '<dt>Hotel Name</dt><dd>KOPKAR Hotel Bintang Sintuk</dd>\\n<dt>City</dt><dd>Bontang</dd>\\n<dt>Country</dt><dd>ID</dd>\\n<dt>Max Temp</dt><dd>84.67 °F</dd>\\n<dt>Current Weather</dt><dd>overcast clouds</dd>\\n<dt>City ID</dt><dd>402</dd>\\n\\n</dl>\\n\\n', '<dt>Hotel Name</dt><dd>Hotel Ambulu Jember</dd>\\n<dt>City</dt><dd>Ambulu</dd>\\n<dt>Country</dt><dd>ID</dd>\\n<dt>Max Temp</dt><dd>85.73 °F</dd>\\n<dt>Current Weather</dt><dd>few clouds</dd>\\n<dt>City ID</dt><dd>409</dd>\\n\\n</dl>\\n\\n', '<dt>Hotel Name</dt><dd>Pousada Rua Camurupim</dd>\\n<dt>City</dt><dd>Aquiraz</dd>\\n<dt>Country</dt><dd>BR</dd>\\n<dt>Max Temp</dt><dd>82.4 °F</dd>\\n<dt>Current Weather</dt><dd>broken clouds</dd>\\n<dt>City ID</dt><dd>412</dd>\\n\\n</dl>\\n\\n', '<dt>Hotel Name</dt><dd>Lakatoro Palm Lodge</dd>\\n<dt>City</dt><dd>Lakatoro</dd>\\n<dt>Country</dt><dd>VU</dd>\\n<dt>Max Temp</dt><dd>82.94 °F</dd>\\n<dt>Current Weather</dt><dd>light rain</dd>\\n<dt>City ID</dt><dd>418</dd>\\n\\n</dl>\\n\\n', '<dt>Hotel Name</dt><dd>nan</dd>\\n<dt>City</dt><dd>Merauke</dd>\\n<dt>Country</dt><dd>ID</dd>\\n<dt>Max Temp</dt><dd>83.5 °F</dd>\\n<dt>Current Weather</dt><dd>light rain</dd>\\n<dt>City ID</dt><dd>421</dd>\\n\\n</dl>\\n\\n', '<dt>Hotel Name</dt><dd>Hotel RIKMAN Continental</dd>\\n<dt>City</dt><dd>Tura</dd>\\n<dt>Country</dt><dd>IN</dd>\\n<dt>Max Temp</dt><dd>84.2 °F</dd>\\n<dt>Current Weather</dt><dd>clear sky</dd>\\n<dt>City ID</dt><dd>429</dd>\\n\\n</dl>\\n\\n', '<dt>Hotel Name</dt><dd>Pension Oaoa</dd>\\n<dt>City</dt><dd>Tautira</dd>\\n<dt>Country</dt><dd>PF</dd>\\n<dt>Max Temp</dt><dd>86.0 °F</dd>\\n<dt>Current Weather</dt><dd>light rain</dd>\\n<dt>City ID</dt><dd>433</dd>\\n\\n</dl>\\n\\n', '<dt>Hotel Name</dt><dd>Puri Brata</dd>\\n<dt>City</dt><dd>Bambanglipuro</dd>\\n<dt>Country</dt><dd>ID</dd>\\n<dt>Max Temp</dt><dd>86.38 °F</dd>\\n<dt>Current Weather</dt><dd>broken clouds</dd>\\n<dt>City ID</dt><dd>450</dd>\\n\\n</dl>\\n\\n', '<dt>Hotel Name</dt><dd>Vahmoneh Lodge Vanimo</dd>\\n<dt>City</dt><dd>Vanimo</dd>\\n<dt>Country</dt><dd>PG</dd>\\n<dt>Max Temp</dt><dd>86.68 °F</dd>\\n<dt>Current Weather</dt><dd>overcast clouds</dd>\\n<dt>City ID</dt><dd>457</dd>\\n\\n</dl>\\n\\n', '<dt>Hotel Name</dt><dd>nan</dd>\\n<dt>City</dt><dd>Thinadhoo</dd>\\n<dt>Country</dt><dd>MV</dd>\\n<dt>Max Temp</dt><dd>83.26 °F</dd>\\n<dt>Current Weather</dt><dd>broken clouds</dd>\\n<dt>City ID</dt><dd>458</dd>\\n\\n</dl>\\n\\n', '<dt>Hotel Name</dt><dd>Expeditions Ténére voyages</dd>\\n<dt>City</dt><dd>Bilma</dd>\\n<dt>Country</dt><dd>NE</dd>\\n<dt>Max Temp</dt><dd>80.06 °F</dd>\\n<dt>Current Weather</dt><dd>clear sky</dd>\\n<dt>City ID</dt><dd>459</dd>\\n\\n</dl>\\n\\n', '<dt>Hotel Name</dt><dd>Hôtel Raiatea Lodge</dd>\\n<dt>City</dt><dd>Tevaitoa</dd>\\n<dt>Country</dt><dd>PF</dd>\\n<dt>Max Temp</dt><dd>82.33 °F</dd>\\n<dt>Current Weather</dt><dd>light rain</dd>\\n<dt>City ID</dt><dd>460</dd>\\n\\n</dl>\\n\\n', '<dt>Hotel Name</dt><dd>Penginapan Kim</dd>\\n<dt>City</dt><dd>Biak</dd>\\n<dt>Country</dt><dd>ID</dd>\\n<dt>Max Temp</dt><dd>83.79 °F</dd>\\n<dt>Current Weather</dt><dd>broken clouds</dd>\\n<dt>City ID</dt><dd>476</dd>\\n\\n</dl>\\n\\n', '<dt>Hotel Name</dt><dd>Kimbe Bay Hotel</dd>\\n<dt>City</dt><dd>Kimbe</dd>\\n<dt>Country</dt><dd>PG</dd>\\n<dt>Max Temp</dt><dd>80.55 °F</dd>\\n<dt>Current Weather</dt><dd>overcast clouds</dd>\\n<dt>City ID</dt><dd>486</dd>\\n\\n</dl>\\n\\n', '<dt>Hotel Name</dt><dd>Mess keban agung</dd>\\n<dt>City</dt><dd>Payo</dd>\\n<dt>Country</dt><dd>ID</dd>\\n<dt>Max Temp</dt><dd>87.22 °F</dd>\\n<dt>Current Weather</dt><dd>scattered clouds</dd>\\n<dt>City ID</dt><dd>494</dd>\\n\\n</dl>\\n\\n', '<dt>Hotel Name</dt><dd>Hospedaje la Amistad</dd>\\n<dt>City</dt><dd>Pozo Colorado</dd>\\n<dt>Country</dt><dd>PY</dd>\\n<dt>Max Temp</dt><dd>82.76 °F</dd>\\n<dt>Current Weather</dt><dd>scattered clouds</dd>\\n<dt>City ID</dt><dd>504</dd>\\n\\n</dl>\\n\\n', '<dt>Hotel Name</dt><dd>Imagination Island</dd>\\n<dt>City</dt><dd>Gizo</dd>\\n<dt>Country</dt><dd>SB</dd>\\n<dt>Max Temp</dt><dd>81.32 °F</dd>\\n<dt>Current Weather</dt><dd>moderate rain</dd>\\n<dt>City ID</dt><dd>506</dd>\\n\\n</dl>\\n\\n', '<dt>Hotel Name</dt><dd>Hotel Rajmahal</dd>\\n<dt>City</dt><dd>Dharur</dd>\\n<dt>Country</dt><dd>IN</dd>\\n<dt>Max Temp</dt><dd>86.41 °F</dd>\\n<dt>Current Weather</dt><dd>broken clouds</dd>\\n<dt>City ID</dt><dd>510</dd>\\n\\n</dl>\\n\\n', '<dt>Hotel Name</dt><dd>Turkwel Lodge</dd>\\n<dt>City</dt><dd>Lodwar</dd>\\n<dt>Country</dt><dd>KE</dd>\\n<dt>Max Temp</dt><dd>84.6 °F</dd>\\n<dt>Current Weather</dt><dd>overcast clouds</dd>\\n<dt>City ID</dt><dd>512</dd>\\n\\n</dl>\\n\\n', '<dt>Hotel Name</dt><dd>Halane Hotel and Restaurent</dd>\\n<dt>City</dt><dd>Hobyo</dd>\\n<dt>Country</dt><dd>SO</dd>\\n<dt>Max Temp</dt><dd>81.54 °F</dd>\\n<dt>Current Weather</dt><dd>few clouds</dd>\\n<dt>City ID</dt><dd>515</dd>\\n\\n</dl>\\n\\n', '<dt>Hotel Name</dt><dd>nan</dd>\\n<dt>City</dt><dd>Kalbay</dd>\\n<dt>Country</dt><dd>PH</dd>\\n<dt>Max Temp</dt><dd>86.0 °F</dd>\\n<dt>Current Weather</dt><dd>scattered clouds</dd>\\n<dt>City ID</dt><dd>522</dd>\\n\\n</dl>\\n\\n', '<dt>Hotel Name</dt><dd>waigo splash hotel</dd>\\n<dt>City</dt><dd>Sorong</dd>\\n<dt>Country</dt><dd>ID</dd>\\n<dt>Max Temp</dt><dd>82.72 °F</dd>\\n<dt>Current Weather</dt><dd>light rain</dd>\\n<dt>City ID</dt><dd>542</dd>\\n\\n</dl>\\n\\n', '<dt>Hotel Name</dt><dd>Bautista Lodging House</dd>\\n<dt>City</dt><dd>Mabay</dd>\\n<dt>Country</dt><dd>PH</dd>\\n<dt>Max Temp</dt><dd>86.0 °F</dd>\\n<dt>Current Weather</dt><dd>scattered clouds</dd>\\n<dt>City ID</dt><dd>551</dd>\\n\\n</dl>\\n\\n', '<dt>Hotel Name</dt><dd>Hotel Nusantara Nabire</dd>\\n<dt>City</dt><dd>Nabire</dd>\\n<dt>Country</dt><dd>ID</dd>\\n<dt>Max Temp</dt><dd>86.77 °F</dd>\\n<dt>Current Weather</dt><dd>scattered clouds</dd>\\n<dt>City ID</dt><dd>555</dd>\\n\\n</dl>\\n\\n', '<dt>Hotel Name</dt><dd>Go Firne</dd>\\n<dt>City</dt><dd>Vasai</dd>\\n<dt>Country</dt><dd>IN</dd>\\n<dt>Max Temp</dt><dd>84.2 °F</dd>\\n<dt>Current Weather</dt><dd>haze</dd>\\n<dt>City ID</dt><dd>565</dd>\\n\\n</dl>\\n\\n', '<dt>Hotel Name</dt><dd>nan</dd>\\n<dt>City</dt><dd>Araouane</dd>\\n<dt>Country</dt><dd>ML</dd>\\n<dt>Max Temp</dt><dd>81.63 °F</dd>\\n<dt>Current Weather</dt><dd>clear sky</dd>\\n<dt>City ID</dt><dd>566</dd>\\n\\n</dl>\\n\\n', '<dt>Hotel Name</dt><dd>Chez Dydyce Guesthouse</dd>\\n<dt>City</dt><dd>Fayaoue</dd>\\n<dt>Country</dt><dd>NC</dd>\\n<dt>Max Temp</dt><dd>80.74 °F</dd>\\n<dt>Current Weather</dt><dd>overcast clouds</dd>\\n<dt>City ID</dt><dd>572</dd>\\n\\n</dl>\\n\\n', '<dt>Hotel Name</dt><dd>Low Cost Housing Estate</dd>\\n<dt>City</dt><dd>Lafia</dd>\\n<dt>Country</dt><dd>NG</dd>\\n<dt>Max Temp</dt><dd>80.8 °F</dd>\\n<dt>Current Weather</dt><dd>overcast clouds</dd>\\n<dt>City ID</dt><dd>587</dd>\\n\\n</dl>\\n\\n', '<dt>Hotel Name</dt><dd>Hotel Saigon-PT</dd>\\n<dt>City</dt><dd>Phan Thiet</dd>\\n<dt>Country</dt><dd>VN</dd>\\n<dt>Max Temp</dt><dd>88.84 °F</dd>\\n<dt>Current Weather</dt><dd>broken clouds</dd>\\n<dt>City ID</dt><dd>594</dd>\\n\\n</dl>\\n\\n', '<dt>Hotel Name</dt><dd>St. Agatha Resort</dd>\\n<dt>City</dt><dd>Plaridel</dd>\\n<dt>Country</dt><dd>PH</dd>\\n<dt>Max Temp</dt><dd>90.0 °F</dd>\\n<dt>Current Weather</dt><dd>scattered clouds</dd>\\n<dt>City ID</dt><dd>609</dd>\\n\\n</dl>\\n\\n', '<dt>Hotel Name</dt><dd>Will T Place</dd>\\n<dt>City</dt><dd>Bodden Town</dd>\\n<dt>Country</dt><dd>KY</dd>\\n<dt>Max Temp</dt><dd>80.6 °F</dd>\\n<dt>Current Weather</dt><dd>few clouds</dd>\\n<dt>City ID</dt><dd>614</dd>\\n\\n</dl>\\n\\n', '<dt>Hotel Name</dt><dd>Palais du chef Canton Salamt</dd>\\n<dt>City</dt><dd>Am Timan</dd>\\n<dt>Country</dt><dd>TD</dd>\\n<dt>Max Temp</dt><dd>80.89 °F</dd>\\n<dt>Current Weather</dt><dd>overcast clouds</dd>\\n<dt>City ID</dt><dd>617</dd>\\n\\n</dl>\\n\\n', '<dt>Hotel Name</dt><dd>Villas de Puerto Viejo</dd>\\n<dt>City</dt><dd>Iztapa</dd>\\n<dt>Country</dt><dd>GT</dd>\\n<dt>Max Temp</dt><dd>82.4 °F</dd>\\n<dt>Current Weather</dt><dd>scattered clouds</dd>\\n<dt>City ID</dt><dd>627</dd>\\n\\n</dl>\\n\\n', '<dt>Hotel Name</dt><dd>Puri Brata</dd>\\n<dt>City</dt><dd>Srandakan</dd>\\n<dt>Country</dt><dd>ID</dd>\\n<dt>Max Temp</dt><dd>86.54 °F</dd>\\n<dt>Current Weather</dt><dd>broken clouds</dd>\\n<dt>City ID</dt><dd>647</dd>\\n\\n</dl>\\n\\n', '<dt>Hotel Name</dt><dd>nan</dd>\\n<dt>City</dt><dd>Bousso</dd>\\n<dt>Country</dt><dd>TD</dd>\\n<dt>Max Temp</dt><dd>81.18 °F</dd>\\n<dt>Current Weather</dt><dd>broken clouds</dd>\\n<dt>City ID</dt><dd>649</dd>\\n\\n</dl>\\n\\n', '<dt>Hotel Name</dt><dd>Mega Hotel, Miri</dd>\\n<dt>City</dt><dd>Miri</dd>\\n<dt>Country</dt><dd>MY</dd>\\n<dt>Max Temp</dt><dd>86.0 °F</dd>\\n<dt>Current Weather</dt><dd>few clouds</dd>\\n<dt>City ID</dt><dd>651</dd>\\n\\n</dl>\\n\\n', '<dt>Hotel Name</dt><dd>Danny Moreno Property</dd>\\n<dt>City</dt><dd>Kinablangan</dd>\\n<dt>Country</dt><dd>PH</dd>\\n<dt>Max Temp</dt><dd>84.38 °F</dd>\\n<dt>Current Weather</dt><dd>overcast clouds</dd>\\n<dt>City ID</dt><dd>653</dd>\\n\\n</dl>\\n\\n', '<dt>Hotel Name</dt><dd>Erlyn’s Sta Rosa City Home</dd>\\n<dt>City</dt><dd>Santa Rosa</dd>\\n<dt>Country</dt><dd>PH</dd>\\n<dt>Max Temp</dt><dd>90.0 °F</dd>\\n<dt>Current Weather</dt><dd>broken clouds</dd>\\n<dt>City ID</dt><dd>655</dd>\\n\\n</dl>\\n\\n', '<dt>Hotel Name</dt><dd>Pin Drop Hotel</dd>\\n<dt>City</dt><dd>Anloga</dd>\\n<dt>Country</dt><dd>GH</dd>\\n<dt>Max Temp</dt><dd>80.6 °F</dd>\\n<dt>Current Weather</dt><dd>few clouds</dd>\\n<dt>City ID</dt><dd>657</dd>\\n\\n</dl>\\n\\n']\n"
     ]
    }
   ],
   "source": [
    "# 2. Using the template add the city name, the country code, the weather description and maximum temperature for the city.\n",
    "info_box_template = \"\"\"<dt>Hotel Name</dt><dd>{Hotel Name}</dd>\n",
    "<dt>City</dt><dd>{City}</dd>\n",
    "<dt>Country</dt><dd>{Country}</dd>\n",
    "<dt>Max Temp</dt><dd>{Max Temp} °F</dd>\n",
    "<dt>Current Weather</dt><dd>{Current Description}</dd>\n",
    "<dt>City ID</dt><dd>{City_ID}</dd>\n",
    "\n",
    "</dl>\n",
    "\n",
    "\"\"\"\n",
    "\n",
    "# 3a. Get the data from each row and add it to the formatting template and store the data in a list.\n",
    "hotel_info = [info_box_template.format(**row) for index, row in vacation_df.iterrows()]\n",
    "\n",
    "# 3b. Get the latitude and longitude from each row and store in a new DataFrame.\n",
    "locations = vacation_df[[\"Lat\", \"Lng\"]]\n",
    "\n",
    "print(hotel_info)"
   ]
  },
  {
   "cell_type": "code",
   "execution_count": 100,
   "metadata": {},
   "outputs": [
    {
     "output_type": "display_data",
     "data": {
      "text/plain": "Figure(layout=FigureLayout(height='1000px'))",
      "application/vnd.jupyter.widget-view+json": {
       "version_major": 2,
       "version_minor": 0,
       "model_id": "e80562620755458c80db03d36c30a60e"
      }
     },
     "metadata": {}
    }
   ],
   "source": [
    "# 4a. Add a marker layer for each city to the map.\n",
    "\n",
    "locations = vacation_df[[\"Lat\", \"Lng\"]]\n",
    "max_temp = vacation_df[\"Max Temp\"]\n",
    "fig = gmaps.figure(center=(30.0, 31.0), zoom_level=1.5, layout={'height':'1000px'})\n",
    "heat_layer = gmaps.heatmap_layer(locations, weights=max_temp,dissipating=False,\n",
    "             max_intensity=300, point_radius=4)\n",
    "marker_layer = gmaps.marker_layer(locations, info_box_content=hotel_info)\n",
    "fig.add_layer(heat_layer)\n",
    "fig.add_layer(marker_layer)\n",
    "\n",
    "# 4b. Display the figure\n",
    "\n",
    "fig"
   ]
  },
  {
   "cell_type": "code",
   "execution_count": 35,
   "metadata": {},
   "outputs": [],
   "source": [
    "\n"
   ]
  },
  {
   "cell_type": "code",
   "execution_count": 120,
   "metadata": {},
   "outputs": [],
   "source": [
    "# From the map above pick 4 cities and create a vacation itinerary route to travel between the four cities. \n",
    "# 5. Create DataFrames for each city by filtering the 'vacation_df' using the loc method. \n",
    "# Hint: The starting and ending city should be the same city.\n",
    "\n",
    "vacation_start = vacation_df.loc[vacation_df[vacation_df.City_ID == 409].index]\n",
    "vacation_end =  vacation_df.loc[vacation_df[vacation_df.City_ID == 409].index]\n",
    "vacation_stop1 =  vacation_df.loc[vacation_df[vacation_df.City_ID == 178].index]\n",
    "vacation_stop2 =  vacation_df.loc[vacation_df[vacation_df.City_ID == 351].index]\n",
    "vacation_stop3 =  vacation_df.loc[vacation_df[vacation_df.City_ID == 242].index]"
   ]
  },
  {
   "cell_type": "code",
   "execution_count": 121,
   "metadata": {},
   "outputs": [],
   "source": [
    "# 6. Get the latitude-longitude pairs as tuples from each city DataFrame using the to_numpy function and list indexing.\n",
    "start = tuple(vacation_start[['Lat','Lng']].to_numpy())[0]\n",
    "end = tuple(vacation_end[['Lat','Lng']].to_numpy())[0]\n",
    "stop1 = tuple(vacation_stop1[['Lat','Lng']].to_numpy())[0]\n",
    "stop2 = tuple(vacation_stop2[['Lat','Lng']].to_numpy())[0]\n",
    "stop3 = tuple(vacation_stop3[['Lat','Lng']].to_numpy())[0]"
   ]
  },
  {
   "cell_type": "code",
   "execution_count": 122,
   "metadata": {},
   "outputs": [
    {
     "output_type": "stream",
     "name": "stdout",
     "text": [
      "[ -8.345  113.6058]\n"
     ]
    }
   ],
   "source": [
    "print(start)"
   ]
  },
  {
   "cell_type": "code",
   "execution_count": 123,
   "metadata": {
    "scrolled": true
   },
   "outputs": [
    {
     "output_type": "display_data",
     "data": {
      "text/plain": "Figure(layout=FigureLayout(height='420px'))",
      "application/vnd.jupyter.widget-view+json": {
       "version_major": 2,
       "version_minor": 0,
       "model_id": "677c93c18b934435a4c25b3a4b783182"
      }
     },
     "metadata": {}
    }
   ],
   "source": [
    "# 7. Create a direction layer map using the start and end latitude-longitude pairs,\n",
    "# and stop1, stop2, and stop3 as the waypoints. The travel_mode should be \"DRIVING\", \"BICYCLING\", or \"WALKING\".\n",
    "\n",
    "fig = gmaps.figure()\n",
    "start2end = gmaps.directions_layer(\n",
    "        start, end, waypoints = [stop1, stop2, stop3],\n",
    "        travel_mode='DRIVING')\n",
    "fig.add_layer(start2end)\n",
    "fig\n"
   ]
  },
  {
   "cell_type": "code",
   "execution_count": 127,
   "metadata": {},
   "outputs": [
    {
     "output_type": "execute_result",
     "data": {
      "text/plain": [
       "   City_ID     City Country  Max Temp Current Description     Lat       Lng  \\\n",
       "0      409   Ambulu      ID     85.73          few clouds -8.3450  113.6058   \n",
       "1      178  Labuhan      ID     81.88       broken clouds -6.8844  112.2051   \n",
       "2      351   Muncar      ID     86.00    scattered clouds -8.4333  114.3333   \n",
       "3      242   Banjar      ID     86.00    scattered clouds -8.1900  114.9675   \n",
       "\n",
       "                 Hotel Name  \n",
       "0       Hotel Ambulu Jember  \n",
       "1  PT PPI Lamongan Tambak C  \n",
       "2             Zaky Homestay  \n",
       "3          The Hamsa Resort  "
      ],
      "text/html": "<div>\n<style scoped>\n    .dataframe tbody tr th:only-of-type {\n        vertical-align: middle;\n    }\n\n    .dataframe tbody tr th {\n        vertical-align: top;\n    }\n\n    .dataframe thead th {\n        text-align: right;\n    }\n</style>\n<table border=\"1\" class=\"dataframe\">\n  <thead>\n    <tr style=\"text-align: right;\">\n      <th></th>\n      <th>City_ID</th>\n      <th>City</th>\n      <th>Country</th>\n      <th>Max Temp</th>\n      <th>Current Description</th>\n      <th>Lat</th>\n      <th>Lng</th>\n      <th>Hotel Name</th>\n    </tr>\n  </thead>\n  <tbody>\n    <tr>\n      <th>0</th>\n      <td>409</td>\n      <td>Ambulu</td>\n      <td>ID</td>\n      <td>85.73</td>\n      <td>few clouds</td>\n      <td>-8.3450</td>\n      <td>113.6058</td>\n      <td>Hotel Ambulu Jember</td>\n    </tr>\n    <tr>\n      <th>1</th>\n      <td>178</td>\n      <td>Labuhan</td>\n      <td>ID</td>\n      <td>81.88</td>\n      <td>broken clouds</td>\n      <td>-6.8844</td>\n      <td>112.2051</td>\n      <td>PT PPI Lamongan Tambak C</td>\n    </tr>\n    <tr>\n      <th>2</th>\n      <td>351</td>\n      <td>Muncar</td>\n      <td>ID</td>\n      <td>86.00</td>\n      <td>scattered clouds</td>\n      <td>-8.4333</td>\n      <td>114.3333</td>\n      <td>Zaky Homestay</td>\n    </tr>\n    <tr>\n      <th>3</th>\n      <td>242</td>\n      <td>Banjar</td>\n      <td>ID</td>\n      <td>86.00</td>\n      <td>scattered clouds</td>\n      <td>-8.1900</td>\n      <td>114.9675</td>\n      <td>The Hamsa Resort</td>\n    </tr>\n  </tbody>\n</table>\n</div>"
     },
     "metadata": {},
     "execution_count": 127
    }
   ],
   "source": [
    "# 8. To create a marker layer map between the four cities.\n",
    "#  Combine the four city DataFrames into one DataFrame using the concat() function.\n",
    "itinerary_df = pd.concat([vacation_start, vacation_stop1, vacation_stop2, vacation_stop3],ignore_index=True)\n",
    "itinerary_df"
   ]
  },
  {
   "cell_type": "code",
   "execution_count": 128,
   "metadata": {},
   "outputs": [],
   "source": [
    "# 9 Using the template add city name, the country code, the weather description and maximum temperature for the city. \n",
    "\n",
    "#See 2.\n",
    "\n",
    "# 10a Get the data from each row and add it to the formatting template and store the data in a list.\n",
    "hotel_info = [info_box_template.format(**row) for index, row in itinerary_df.iterrows()]\n",
    "\n",
    "# 10b. Get the latitude and longitude from each row and store in a new DataFrame.\n",
    "locations = itinerary_df[[\"Lat\", \"Lng\"]]"
   ]
  },
  {
   "cell_type": "code",
   "execution_count": 131,
   "metadata": {},
   "outputs": [
    {
     "output_type": "display_data",
     "data": {
      "text/plain": "Figure(layout=FigureLayout(height='420px'))",
      "application/vnd.jupyter.widget-view+json": {
       "version_major": 2,
       "version_minor": 0,
       "model_id": "c90d8d246e354fdfb80f3cad391060d3"
      }
     },
     "metadata": {}
    }
   ],
   "source": [
    "# 11a. Add a marker layer for each city to the map.\n",
    "\n",
    "info_box_content = \"\"\"<dt>Hotel Name</dt><dd>{Hotel Name}</dd>\n",
    "<dt>City</dt><dd>{City}</dd>\n",
    "<dt>Country</dt><dd>{Country}</dd>\n",
    "<dt>Max Temp</dt><dd>{Max Temp} °F</dd>\n",
    "<dt>Current Weather</dt><dd>{Current Description}</dd>\n",
    "<dt>City ID</dt><dd>{City_ID}</dd>\n",
    "\n",
    "</dl>\n",
    "\n",
    "\"\"\"\n",
    "\n",
    "locations = itinerary_df[[\"Lat\", \"Lng\"]]\n",
    "max_temp = itinerary_df[\"Max Temp\"]\n",
    "fig = gmaps.figure(center=(30.0, 31.0), zoom_level=1.5)\n",
    "\n",
    "marker_layer = gmaps.marker_layer(locations, info_box_content=hotel_info)\n",
    "\n",
    "fig.add_layer(marker_layer)\n",
    "\n",
    "# Store the DataFrame Row.\n",
    "hotel_info = [info_box_content.format(**row) for index, row in itinerary_df.iterrows()]\n",
    "\n",
    "\n",
    "# 11b. Display the figure\n",
    "\n",
    "fig"
   ]
  },
  {
   "cell_type": "code",
   "execution_count": null,
   "metadata": {},
   "outputs": [],
   "source": []
  }
 ],
 "metadata": {
  "kernelspec": {
   "name": "pythondata",
   "display_name": "Python 3.8.5 64-bit ('base': conda)"
  },
  "language_info": {
   "codemirror_mode": {
    "name": "ipython",
    "version": 3
   },
   "file_extension": ".py",
   "mimetype": "text/x-python",
   "name": "python",
   "nbconvert_exporter": "python",
   "pygments_lexer": "ipython3",
   "version": "3.8.5"
  },
  "latex_envs": {
   "LaTeX_envs_menu_present": true,
   "autoclose": false,
   "autocomplete": true,
   "bibliofile": "biblio.bib",
   "cite_by": "apalike",
   "current_citInitial": 1,
   "eqLabelWithNumbers": true,
   "eqNumInitial": 1,
   "hotkeys": {
    "equation": "Ctrl-E",
    "itemize": "Ctrl-I"
   },
   "labels_anchors": false,
   "latex_user_defs": false,
   "report_style_numbering": false,
   "user_envs_cfg": false
  }
 },
 "nbformat": 4,
 "nbformat_minor": 2
}